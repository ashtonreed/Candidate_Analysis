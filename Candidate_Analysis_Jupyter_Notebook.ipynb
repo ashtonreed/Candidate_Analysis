{
 "cells": [
  {
   "cell_type": "markdown",
   "metadata": {},
   "source": [
    "# Candidate Analysis"
   ]
  },
  {
   "cell_type": "markdown",
   "metadata": {},
   "source": [
    "---"
   ]
  },
  {
   "cell_type": "markdown",
   "metadata": {},
   "source": [
    "I’ve been working to expand my data science skill set since I enrolled in Springboard’s Data Science Career Track bootcamp, so I have completed this assignment in a Jupyter Notebook as a sample of my work. For more of my work, please see my bootcamp GitHub repository: https://github.com/ashtonreed/Springboard\n",
    "\n",
    "Here are 5 questions I was given on the assignment, and in the notebook below, you will find the desired answers and other insights I uncovered:\n",
    "1. What were the Sales results in 2018?\n",
    "2. What were the Profit Margin results in 2018?\n",
    "3. Was the business impacted by Price Increases in 2018?\n",
    "4. Would you recommend eliminating any items from the assortment?\n",
    "5. Were the new items in 2018 successful?"
   ]
  },
  {
   "cell_type": "markdown",
   "metadata": {},
   "source": [
    "The code cells were run in sequential order, and then the Jupyter Notebook was saved as a pdf for better accessibility. Above each code cell is an explanation of what that section of code is meant to accomplish, and any comments on what the code does within the cell are denoted by \"#\". I have broken this notebook down into 6 subsections--in the first subsection I am reading in the data and setting up the dataframe with the necessary columns. In the other 5 subsections, I am working to answer one of the five questions above. "
   ]
  },
  {
   "cell_type": "markdown",
   "metadata": {},
   "source": [
    "Please note that this notebook is set up so that someone who isn't familiar with Python can still step through the problem-solving process to answer the questions outlined above."
   ]
  },
  {
   "cell_type": "markdown",
   "metadata": {},
   "source": [
    "---"
   ]
  },
  {
   "cell_type": "markdown",
   "metadata": {},
   "source": [
    "## Setup: Reading in the data from the Excel file and adding \"Dollar Sales\" and \"Profit Margin\" columns"
   ]
  },
  {
   "cell_type": "code",
   "execution_count": 1,
   "metadata": {},
   "outputs": [],
   "source": [
    "import numpy as np\n",
    "import pandas as pd\n",
    "import xlrd\n",
    "import matplotlib.pyplot as plt\n",
    "import seaborn as sns"
   ]
  },
  {
   "cell_type": "markdown",
   "metadata": {},
   "source": [
    "First, we read in the dataset by specifying the name of the Excel file, the specific sheet name in the Excel file (since there were 2 in this case, one with the data and one with the questions), and the row in which the header is found (beginning by counting from 0 instead of 1)."
   ]
  },
  {
   "cell_type": "markdown",
   "metadata": {},
   "source": [
    "Below, we assign the dataframe from the Excel file to the variable name \"df\" for simplicity:"
   ]
  },
  {
   "cell_type": "code",
   "execution_count": 2,
   "metadata": {
    "scrolled": true
   },
   "outputs": [],
   "source": [
    "df = pd.read_excel('Candidate_Analysis.xlsx', sheet_name='Dataset', header=0)"
   ]
  },
  {
   "cell_type": "markdown",
   "metadata": {},
   "source": [
    "Next, we check to see what the first 5 rows of the dataframe look like."
   ]
  },
  {
   "cell_type": "code",
   "execution_count": 3,
   "metadata": {},
   "outputs": [
    {
     "data": {
      "text/html": [
       "<div>\n",
       "<style scoped>\n",
       "    .dataframe tbody tr th:only-of-type {\n",
       "        vertical-align: middle;\n",
       "    }\n",
       "\n",
       "    .dataframe tbody tr th {\n",
       "        vertical-align: top;\n",
       "    }\n",
       "\n",
       "    .dataframe thead th {\n",
       "        text-align: right;\n",
       "    }\n",
       "</style>\n",
       "<table border=\"1\" class=\"dataframe\">\n",
       "  <thead>\n",
       "    <tr style=\"text-align: right;\">\n",
       "      <th></th>\n",
       "      <th>Item</th>\n",
       "      <th>Year</th>\n",
       "      <th>Item Cost</th>\n",
       "      <th>Item Price</th>\n",
       "      <th>Unit Sales</th>\n",
       "    </tr>\n",
       "  </thead>\n",
       "  <tbody>\n",
       "    <tr>\n",
       "      <th>0</th>\n",
       "      <td>052020-1010</td>\n",
       "      <td>2018</td>\n",
       "      <td>100</td>\n",
       "      <td>148</td>\n",
       "      <td>1175</td>\n",
       "    </tr>\n",
       "    <tr>\n",
       "      <th>1</th>\n",
       "      <td>052020-1011</td>\n",
       "      <td>2018</td>\n",
       "      <td>94</td>\n",
       "      <td>156</td>\n",
       "      <td>1205</td>\n",
       "    </tr>\n",
       "    <tr>\n",
       "      <th>2</th>\n",
       "      <td>052020-1012</td>\n",
       "      <td>2018</td>\n",
       "      <td>86</td>\n",
       "      <td>176</td>\n",
       "      <td>1125</td>\n",
       "    </tr>\n",
       "    <tr>\n",
       "      <th>3</th>\n",
       "      <td>052020-1013</td>\n",
       "      <td>2018</td>\n",
       "      <td>124</td>\n",
       "      <td>178</td>\n",
       "      <td>980</td>\n",
       "    </tr>\n",
       "    <tr>\n",
       "      <th>4</th>\n",
       "      <td>052020-1014</td>\n",
       "      <td>2018</td>\n",
       "      <td>71</td>\n",
       "      <td>141</td>\n",
       "      <td>1050</td>\n",
       "    </tr>\n",
       "  </tbody>\n",
       "</table>\n",
       "</div>"
      ],
      "text/plain": [
       "          Item  Year  Item Cost  Item Price  Unit Sales\n",
       "0  052020-1010  2018        100         148        1175\n",
       "1  052020-1011  2018         94         156        1205\n",
       "2  052020-1012  2018         86         176        1125\n",
       "3  052020-1013  2018        124         178         980\n",
       "4  052020-1014  2018         71         141        1050"
      ]
     },
     "execution_count": 3,
     "metadata": {},
     "output_type": "execute_result"
    }
   ],
   "source": [
    "df.head() "
   ]
  },
  {
   "cell_type": "markdown",
   "metadata": {},
   "source": [
    "Then we check to see what the last 5 rows of the dataframe look like."
   ]
  },
  {
   "cell_type": "code",
   "execution_count": 4,
   "metadata": {
    "scrolled": true
   },
   "outputs": [
    {
     "data": {
      "text/html": [
       "<div>\n",
       "<style scoped>\n",
       "    .dataframe tbody tr th:only-of-type {\n",
       "        vertical-align: middle;\n",
       "    }\n",
       "\n",
       "    .dataframe tbody tr th {\n",
       "        vertical-align: top;\n",
       "    }\n",
       "\n",
       "    .dataframe thead th {\n",
       "        text-align: right;\n",
       "    }\n",
       "</style>\n",
       "<table border=\"1\" class=\"dataframe\">\n",
       "  <thead>\n",
       "    <tr style=\"text-align: right;\">\n",
       "      <th></th>\n",
       "      <th>Item</th>\n",
       "      <th>Year</th>\n",
       "      <th>Item Cost</th>\n",
       "      <th>Item Price</th>\n",
       "      <th>Unit Sales</th>\n",
       "    </tr>\n",
       "  </thead>\n",
       "  <tbody>\n",
       "    <tr>\n",
       "      <th>997</th>\n",
       "      <td>052020-1496</td>\n",
       "      <td>2017</td>\n",
       "      <td>120</td>\n",
       "      <td>186</td>\n",
       "      <td>960</td>\n",
       "    </tr>\n",
       "    <tr>\n",
       "      <th>998</th>\n",
       "      <td>052020-1497</td>\n",
       "      <td>2017</td>\n",
       "      <td>103</td>\n",
       "      <td>154</td>\n",
       "      <td>1000</td>\n",
       "    </tr>\n",
       "    <tr>\n",
       "      <th>999</th>\n",
       "      <td>052020-1498</td>\n",
       "      <td>2017</td>\n",
       "      <td>99</td>\n",
       "      <td>177</td>\n",
       "      <td>900</td>\n",
       "    </tr>\n",
       "    <tr>\n",
       "      <th>1000</th>\n",
       "      <td>052020-1499</td>\n",
       "      <td>2017</td>\n",
       "      <td>105</td>\n",
       "      <td>185</td>\n",
       "      <td>900</td>\n",
       "    </tr>\n",
       "    <tr>\n",
       "      <th>1001</th>\n",
       "      <td>052020-1500</td>\n",
       "      <td>2017</td>\n",
       "      <td>86</td>\n",
       "      <td>183</td>\n",
       "      <td>940</td>\n",
       "    </tr>\n",
       "  </tbody>\n",
       "</table>\n",
       "</div>"
      ],
      "text/plain": [
       "             Item  Year  Item Cost  Item Price  Unit Sales\n",
       "997   052020-1496  2017        120         186         960\n",
       "998   052020-1497  2017        103         154        1000\n",
       "999   052020-1498  2017         99         177         900\n",
       "1000  052020-1499  2017        105         185         900\n",
       "1001  052020-1500  2017         86         183         940"
      ]
     },
     "execution_count": 4,
     "metadata": {},
     "output_type": "execute_result"
    }
   ],
   "source": [
    "df.tail()"
   ]
  },
  {
   "cell_type": "markdown",
   "metadata": {},
   "source": [
    "To get a better understanding of the dataset that we're working with, we'll also check out the shape, which is displayed as \"(# of rows, # of columns)\"."
   ]
  },
  {
   "cell_type": "code",
   "execution_count": 5,
   "metadata": {},
   "outputs": [
    {
     "data": {
      "text/plain": [
       "(1002, 5)"
      ]
     },
     "execution_count": 5,
     "metadata": {},
     "output_type": "execute_result"
    }
   ],
   "source": [
    "df.shape"
   ]
  },
  {
   "cell_type": "markdown",
   "metadata": {},
   "source": [
    "To see information such as the number of data points in a column, the mean, standard deviation, minimum, 25th percentile, 50th percentile, 75th percentile, and the maximum, we will use the \"describe\" method."
   ]
  },
  {
   "cell_type": "code",
   "execution_count": 6,
   "metadata": {},
   "outputs": [
    {
     "data": {
      "text/html": [
       "<div>\n",
       "<style scoped>\n",
       "    .dataframe tbody tr th:only-of-type {\n",
       "        vertical-align: middle;\n",
       "    }\n",
       "\n",
       "    .dataframe tbody tr th {\n",
       "        vertical-align: top;\n",
       "    }\n",
       "\n",
       "    .dataframe thead th {\n",
       "        text-align: right;\n",
       "    }\n",
       "</style>\n",
       "<table border=\"1\" class=\"dataframe\">\n",
       "  <thead>\n",
       "    <tr style=\"text-align: right;\">\n",
       "      <th></th>\n",
       "      <th>Year</th>\n",
       "      <th>Item Cost</th>\n",
       "      <th>Item Price</th>\n",
       "      <th>Unit Sales</th>\n",
       "    </tr>\n",
       "  </thead>\n",
       "  <tbody>\n",
       "    <tr>\n",
       "      <th>count</th>\n",
       "      <td>1002.00000</td>\n",
       "      <td>1002.000000</td>\n",
       "      <td>1002.000000</td>\n",
       "      <td>1002.000000</td>\n",
       "    </tr>\n",
       "    <tr>\n",
       "      <th>mean</th>\n",
       "      <td>2017.50000</td>\n",
       "      <td>100.441118</td>\n",
       "      <td>167.162675</td>\n",
       "      <td>1068.862275</td>\n",
       "    </tr>\n",
       "    <tr>\n",
       "      <th>std</th>\n",
       "      <td>0.50025</td>\n",
       "      <td>17.878909</td>\n",
       "      <td>18.893901</td>\n",
       "      <td>192.103226</td>\n",
       "    </tr>\n",
       "    <tr>\n",
       "      <th>min</th>\n",
       "      <td>2017.00000</td>\n",
       "      <td>71.000000</td>\n",
       "      <td>130.000000</td>\n",
       "      <td>810.000000</td>\n",
       "    </tr>\n",
       "    <tr>\n",
       "      <th>25%</th>\n",
       "      <td>2017.00000</td>\n",
       "      <td>86.000000</td>\n",
       "      <td>151.000000</td>\n",
       "      <td>980.000000</td>\n",
       "    </tr>\n",
       "    <tr>\n",
       "      <th>50%</th>\n",
       "      <td>2017.50000</td>\n",
       "      <td>100.000000</td>\n",
       "      <td>166.000000</td>\n",
       "      <td>1060.000000</td>\n",
       "    </tr>\n",
       "    <tr>\n",
       "      <th>75%</th>\n",
       "      <td>2018.00000</td>\n",
       "      <td>115.750000</td>\n",
       "      <td>183.000000</td>\n",
       "      <td>1130.000000</td>\n",
       "    </tr>\n",
       "    <tr>\n",
       "      <th>max</th>\n",
       "      <td>2018.00000</td>\n",
       "      <td>146.000000</td>\n",
       "      <td>218.000000</td>\n",
       "      <td>5500.000000</td>\n",
       "    </tr>\n",
       "  </tbody>\n",
       "</table>\n",
       "</div>"
      ],
      "text/plain": [
       "             Year    Item Cost   Item Price   Unit Sales\n",
       "count  1002.00000  1002.000000  1002.000000  1002.000000\n",
       "mean   2017.50000   100.441118   167.162675  1068.862275\n",
       "std       0.50025    17.878909    18.893901   192.103226\n",
       "min    2017.00000    71.000000   130.000000   810.000000\n",
       "25%    2017.00000    86.000000   151.000000   980.000000\n",
       "50%    2017.50000   100.000000   166.000000  1060.000000\n",
       "75%    2018.00000   115.750000   183.000000  1130.000000\n",
       "max    2018.00000   146.000000   218.000000  5500.000000"
      ]
     },
     "execution_count": 6,
     "metadata": {},
     "output_type": "execute_result"
    }
   ],
   "source": [
    "df.describe()"
   ]
  },
  {
   "cell_type": "markdown",
   "metadata": {},
   "source": [
    "Now that we have a better idea of what our dataset looks like, we will create a new column called \"Dollar Sales\" by multiplying the \"Item Price\" and \"Unit Sales\" columns."
   ]
  },
  {
   "cell_type": "code",
   "execution_count": 7,
   "metadata": {},
   "outputs": [],
   "source": [
    "df['Dollar Sales'] = df['Item Price'] * df['Unit Sales']"
   ]
  },
  {
   "cell_type": "markdown",
   "metadata": {},
   "source": [
    "We want to now look at the header and top 3 rows of the dataframe to ensure this new \"Dollar Sales\" column has been added."
   ]
  },
  {
   "cell_type": "code",
   "execution_count": 8,
   "metadata": {},
   "outputs": [
    {
     "data": {
      "text/html": [
       "<div>\n",
       "<style scoped>\n",
       "    .dataframe tbody tr th:only-of-type {\n",
       "        vertical-align: middle;\n",
       "    }\n",
       "\n",
       "    .dataframe tbody tr th {\n",
       "        vertical-align: top;\n",
       "    }\n",
       "\n",
       "    .dataframe thead th {\n",
       "        text-align: right;\n",
       "    }\n",
       "</style>\n",
       "<table border=\"1\" class=\"dataframe\">\n",
       "  <thead>\n",
       "    <tr style=\"text-align: right;\">\n",
       "      <th></th>\n",
       "      <th>Item</th>\n",
       "      <th>Year</th>\n",
       "      <th>Item Cost</th>\n",
       "      <th>Item Price</th>\n",
       "      <th>Unit Sales</th>\n",
       "      <th>Dollar Sales</th>\n",
       "    </tr>\n",
       "  </thead>\n",
       "  <tbody>\n",
       "    <tr>\n",
       "      <th>0</th>\n",
       "      <td>052020-1010</td>\n",
       "      <td>2018</td>\n",
       "      <td>100</td>\n",
       "      <td>148</td>\n",
       "      <td>1175</td>\n",
       "      <td>173900</td>\n",
       "    </tr>\n",
       "    <tr>\n",
       "      <th>1</th>\n",
       "      <td>052020-1011</td>\n",
       "      <td>2018</td>\n",
       "      <td>94</td>\n",
       "      <td>156</td>\n",
       "      <td>1205</td>\n",
       "      <td>187980</td>\n",
       "    </tr>\n",
       "    <tr>\n",
       "      <th>2</th>\n",
       "      <td>052020-1012</td>\n",
       "      <td>2018</td>\n",
       "      <td>86</td>\n",
       "      <td>176</td>\n",
       "      <td>1125</td>\n",
       "      <td>198000</td>\n",
       "    </tr>\n",
       "  </tbody>\n",
       "</table>\n",
       "</div>"
      ],
      "text/plain": [
       "          Item  Year  Item Cost  Item Price  Unit Sales  Dollar Sales\n",
       "0  052020-1010  2018        100         148        1175        173900\n",
       "1  052020-1011  2018         94         156        1205        187980\n",
       "2  052020-1012  2018         86         176        1125        198000"
      ]
     },
     "execution_count": 8,
     "metadata": {},
     "output_type": "execute_result"
    }
   ],
   "source": [
    "df.head(3)"
   ]
  },
  {
   "cell_type": "markdown",
   "metadata": {},
   "source": [
    "We can see that it was added and appears as we expect it to."
   ]
  },
  {
   "cell_type": "markdown",
   "metadata": {},
   "source": [
    "Next, we want to create a new column called \"Profit Margin\" by multiplying the \"Unit Sales\" column by the difference between the \"Item Price\" and \"Item Cost\" columns."
   ]
  },
  {
   "cell_type": "code",
   "execution_count": 9,
   "metadata": {},
   "outputs": [],
   "source": [
    "df['Profit Margin'] = (df['Item Price'] - df['Item Cost']) * df['Unit Sales']"
   ]
  },
  {
   "cell_type": "markdown",
   "metadata": {},
   "source": [
    "Looking at the header and top 3 rows of the dataframe to ensure this new \"Profit Margin\" column has been added."
   ]
  },
  {
   "cell_type": "code",
   "execution_count": 10,
   "metadata": {},
   "outputs": [
    {
     "data": {
      "text/html": [
       "<div>\n",
       "<style scoped>\n",
       "    .dataframe tbody tr th:only-of-type {\n",
       "        vertical-align: middle;\n",
       "    }\n",
       "\n",
       "    .dataframe tbody tr th {\n",
       "        vertical-align: top;\n",
       "    }\n",
       "\n",
       "    .dataframe thead th {\n",
       "        text-align: right;\n",
       "    }\n",
       "</style>\n",
       "<table border=\"1\" class=\"dataframe\">\n",
       "  <thead>\n",
       "    <tr style=\"text-align: right;\">\n",
       "      <th></th>\n",
       "      <th>Item</th>\n",
       "      <th>Year</th>\n",
       "      <th>Item Cost</th>\n",
       "      <th>Item Price</th>\n",
       "      <th>Unit Sales</th>\n",
       "      <th>Dollar Sales</th>\n",
       "      <th>Profit Margin</th>\n",
       "    </tr>\n",
       "  </thead>\n",
       "  <tbody>\n",
       "    <tr>\n",
       "      <th>0</th>\n",
       "      <td>052020-1010</td>\n",
       "      <td>2018</td>\n",
       "      <td>100</td>\n",
       "      <td>148</td>\n",
       "      <td>1175</td>\n",
       "      <td>173900</td>\n",
       "      <td>56400</td>\n",
       "    </tr>\n",
       "    <tr>\n",
       "      <th>1</th>\n",
       "      <td>052020-1011</td>\n",
       "      <td>2018</td>\n",
       "      <td>94</td>\n",
       "      <td>156</td>\n",
       "      <td>1205</td>\n",
       "      <td>187980</td>\n",
       "      <td>74710</td>\n",
       "    </tr>\n",
       "    <tr>\n",
       "      <th>2</th>\n",
       "      <td>052020-1012</td>\n",
       "      <td>2018</td>\n",
       "      <td>86</td>\n",
       "      <td>176</td>\n",
       "      <td>1125</td>\n",
       "      <td>198000</td>\n",
       "      <td>101250</td>\n",
       "    </tr>\n",
       "  </tbody>\n",
       "</table>\n",
       "</div>"
      ],
      "text/plain": [
       "          Item  Year  Item Cost  Item Price  Unit Sales  Dollar Sales  \\\n",
       "0  052020-1010  2018        100         148        1175        173900   \n",
       "1  052020-1011  2018         94         156        1205        187980   \n",
       "2  052020-1012  2018         86         176        1125        198000   \n",
       "\n",
       "   Profit Margin  \n",
       "0          56400  \n",
       "1          74710  \n",
       "2         101250  "
      ]
     },
     "execution_count": 10,
     "metadata": {},
     "output_type": "execute_result"
    }
   ],
   "source": [
    "df.head(3)"
   ]
  },
  {
   "cell_type": "markdown",
   "metadata": {},
   "source": [
    "It has been added and appears the way we'd expect it to."
   ]
  },
  {
   "cell_type": "markdown",
   "metadata": {},
   "source": [
    "---"
   ]
  },
  {
   "cell_type": "markdown",
   "metadata": {},
   "source": [
    "## 1. What were the Sales results in 2018?"
   ]
  },
  {
   "cell_type": "markdown",
   "metadata": {},
   "source": [
    "We want to group the data by year (and set the year as the index). Then we will sum up the values in the \"Dollar Sales\" column for each year. (We will worry about formatting for readability in the next step.)"
   ]
  },
  {
   "cell_type": "code",
   "execution_count": 11,
   "metadata": {},
   "outputs": [
    {
     "data": {
      "text/plain": [
       "Year\n",
       "2017    87556490\n",
       "2018    91058620\n",
       "Name: Dollar Sales, dtype: int64"
      ]
     },
     "execution_count": 11,
     "metadata": {},
     "output_type": "execute_result"
    }
   ],
   "source": [
    "total_sales = df.groupby('Year', as_index=True)['Dollar Sales'].sum()\n",
    "total_sales"
   ]
  },
  {
   "cell_type": "markdown",
   "metadata": {},
   "source": [
    "We can use our new index (2017 and 2018) to assign the values to a variable."
   ]
  },
  {
   "cell_type": "code",
   "execution_count": 12,
   "metadata": {},
   "outputs": [],
   "source": [
    "total_sales_2018 = total_sales.loc[2018]\n",
    "total_sales_2017 = total_sales.loc[2017]"
   ]
  },
  {
   "cell_type": "markdown",
   "metadata": {},
   "source": [
    "We now have 2 new dataframes, one for 2017 and one for 2018. We can still access the full dataframe (2017 and 2018) at any point by calling \"df\"."
   ]
  },
  {
   "cell_type": "markdown",
   "metadata": {},
   "source": [
    "The code below prints out two sentences detailing the total sales for both years, along with the percent change. The top part of the code prints out the sales for the two years. The if-else sequence below that determines whether the company saw positive growth, negative growth, or no growth in 2018."
   ]
  },
  {
   "cell_type": "code",
   "execution_count": 13,
   "metadata": {},
   "outputs": [
    {
     "name": "stdout",
     "output_type": "stream",
     "text": [
      "The total sales made in 2018 were equal to $91,058,620.00, as opposed to $87,556,490.00 in 2017.\n",
      "This means the company saw a positive growth of 4.00% in 2018.\n"
     ]
    }
   ],
   "source": [
    "print('The total sales made in 2018 were equal to ${0:,.2f}, as opposed to ${1:,.2f} in 2017.'\\\n",
    "      .format(total_sales_2018, total_sales_2017))\n",
    "\n",
    "\n",
    "\n",
    "# If the value in 2018 was greater than in 2017, the company experienced positive growth.\n",
    "if total_sales_2018 > total_sales_2017:\n",
    "    print('This means the company saw a positive growth of {:.2f}% in 2018.'\\\n",
    "          .format((total_sales_2018-total_sales_2017)/total_sales_2017*100))\n",
    "\n",
    "# Otherwise, if the value in 2018 was less than in 2017, the company experienced negative growth.\n",
    "elif total_sales_2018 < total_sales_2017:\n",
    "    print('This means the company saw a negative growth of {:.2f}% in 2018.'\\\n",
    "          .format(abs(total_sales_2018-total_sales_2017)/total_sales_2017*100))\n",
    "\n",
    "# Otherwise, if the values for 2018 and 2017 are equal, the company experienced no growth. \n",
    "elif total_sales_2018 == total_sales_2017:\n",
    "    print('There was no change in 2018.')\n",
    "\n",
    "# And finally, if none of the above cases are true and no other error has been thrown, there could still be an issue \n",
    "# that we need to look more closely at.\n",
    "else:\n",
    "    print('Error: Please check input values')"
   ]
  },
  {
   "cell_type": "markdown",
   "metadata": {},
   "source": [
    "The text above was generated by the preceding code cell. We see that the company experienced positive growth in 2018."
   ]
  },
  {
   "cell_type": "markdown",
   "metadata": {},
   "source": [
    "Next, we'll work to create a histogram so that we can see the distribution of sales for each of the items (with the data from the two years overlaid so that we get a good visual represenation of how the two years compare)."
   ]
  },
  {
   "cell_type": "markdown",
   "metadata": {},
   "source": [
    "First, we create a dataframe for each year."
   ]
  },
  {
   "cell_type": "code",
   "execution_count": 14,
   "metadata": {},
   "outputs": [],
   "source": [
    "year_2018 = df.loc[df['Year'] == 2018]\n",
    "year_2017 = df.loc[df['Year'] == 2017]"
   ]
  },
  {
   "cell_type": "markdown",
   "metadata": {},
   "source": [
    "Then we can create the distribution plot of sales. We'll also include a dotted line to indicate the mean for each year. "
   ]
  },
  {
   "cell_type": "code",
   "execution_count": 15,
   "metadata": {
    "scrolled": false
   },
   "outputs": [
    {
     "data": {
      "image/png": "[encoded data removed]",
      "text/plain": [
       "<Figure size 720x576 with 1 Axes>"
      ]
     },
     "metadata": {
      "needs_background": "light"
     },
     "output_type": "display_data"
    }
   ],
   "source": [
    "_ = plt.figure(figsize=(10,8))\n",
    "_ = sns.distplot(a=year_2018['Dollar Sales'], bins=50, rug=True, label=year_2018['Year'])\n",
    "_ = sns.distplot(a=year_2017['Dollar Sales'], bins=50, rug=True, label=year_2017['Year'])\n",
    "_ = plt.axvline(np.mean(year_2018['Dollar Sales']), c='blue', linestyle = '-.')\n",
    "_ = plt.axvline(np.mean(year_2017['Dollar Sales']), c='orange', linestyle = '-.')\n",
    "_ = plt.title('Total Sales Distribution', fontsize=20)\n",
    "_ = plt.legend()\n",
    "plt.show()"
   ]
  },
  {
   "cell_type": "markdown",
   "metadata": {},
   "source": [
    "From looking at the histogram above, we can see that one item in 2018 achieved more than $800,000 in sales, which is definitely worth investigating further because it is such an extreme outlier."
   ]
  },
  {
   "cell_type": "markdown",
   "metadata": {},
   "source": [
    "We will determine the dollar value of this max sales outlier and output the index and item number."
   ]
  },
  {
   "cell_type": "code",
   "execution_count": 16,
   "metadata": {},
   "outputs": [
    {
     "name": "stdout",
     "output_type": "stream",
     "text": [
      "814000\n",
      "491    052020-1501\n",
      "Name: Item, dtype: object\n"
     ]
    }
   ],
   "source": [
    "max_sales_2018 = year_2018['Dollar Sales'].max()\n",
    "max_sales_item_2018 = year_2018['Item'].loc[year_2018['Dollar Sales'] == max_sales_2018]\n",
    "print(max_sales_2018)\n",
    "print(max_sales_item_2018)"
   ]
  },
  {
   "cell_type": "markdown",
   "metadata": {},
   "source": [
    "Now we will look at the maximum sales in 2017 and print out the dollar value, index, and the item number."
   ]
  },
  {
   "cell_type": "code",
   "execution_count": 17,
   "metadata": {},
   "outputs": [
    {
     "name": "stdout",
     "output_type": "stream",
     "text": [
      "237600\n",
      "672    052020-1171\n",
      "Name: Item, dtype: object\n"
     ]
    }
   ],
   "source": [
    "max_sales_2017 = year_2017['Dollar Sales'].max()\n",
    "max_sales_item_2017 = year_2017['Item'].loc[year_2017['Dollar Sales'] == max_sales_2017]\n",
    "print(max_sales_2017)\n",
    "print(max_sales_item_2017)"
   ]
  },
  {
   "cell_type": "markdown",
   "metadata": {},
   "source": [
    "Using the item number for our runaway best seller in 2018, we will search the 2017 dataframe to see how this item performed the previous year."
   ]
  },
  {
   "cell_type": "code",
   "execution_count": 18,
   "metadata": {},
   "outputs": [
    {
     "data": {
      "text/html": [
       "<div>\n",
       "<style scoped>\n",
       "    .dataframe tbody tr th:only-of-type {\n",
       "        vertical-align: middle;\n",
       "    }\n",
       "\n",
       "    .dataframe tbody tr th {\n",
       "        vertical-align: top;\n",
       "    }\n",
       "\n",
       "    .dataframe thead th {\n",
       "        text-align: right;\n",
       "    }\n",
       "</style>\n",
       "<table border=\"1\" class=\"dataframe\">\n",
       "  <thead>\n",
       "    <tr style=\"text-align: right;\">\n",
       "      <th></th>\n",
       "      <th>Item</th>\n",
       "      <th>Year</th>\n",
       "      <th>Item Cost</th>\n",
       "      <th>Item Price</th>\n",
       "      <th>Unit Sales</th>\n",
       "      <th>Dollar Sales</th>\n",
       "      <th>Profit Margin</th>\n",
       "    </tr>\n",
       "  </thead>\n",
       "  <tbody>\n",
       "  </tbody>\n",
       "</table>\n",
       "</div>"
      ],
      "text/plain": [
       "Empty DataFrame\n",
       "Columns: [Item, Year, Item Cost, Item Price, Unit Sales, Dollar Sales, Profit Margin]\n",
       "Index: []"
      ]
     },
     "execution_count": 18,
     "metadata": {},
     "output_type": "execute_result"
    }
   ],
   "source": [
    "year_2017.loc[year_2017['Item'] == '052020-1501']"
   ]
  },
  {
   "cell_type": "markdown",
   "metadata": {},
   "source": [
    "Because our results above are blank, it appears that out 2018 outlier was a new item that was added in 2018. While the majority of the items in the dataset were sold in both 2017 and 2018, some were discontinued after 2017 and replaced with new products in 2018. This must have been one of the new products."
   ]
  },
  {
   "cell_type": "markdown",
   "metadata": {},
   "source": [
    "We can also create a histogram so that we can see the distribution of sales for each of the items--excluding our $800k outlier."
   ]
  },
  {
   "cell_type": "code",
   "execution_count": 19,
   "metadata": {
    "scrolled": false
   },
   "outputs": [
    {
     "data": {
      "image/png": "[encoded data removed]",
      "text/plain": [
       "<Figure size 720x576 with 1 Axes>"
      ]
     },
     "metadata": {
      "needs_background": "light"
     },
     "output_type": "display_data"
    }
   ],
   "source": [
    "\n",
    "_ = plt.figure(figsize=(10,8))\n",
    "_ = sns.distplot(a=year_2018['Dollar Sales'][year_2018['Dollar Sales'] < 800000], bins=50, \n",
    "                 rug=True, label=year_2018['Year'])\n",
    "_ = sns.distplot(a=year_2017['Dollar Sales'], bins=50, rug=True, label=year_2017['Year'])\n",
    "_ = plt.axvline(np.mean(year_2018['Dollar Sales']), c='blue', linestyle = '-.')\n",
    "_ = plt.axvline(np.mean(year_2017['Dollar Sales']), c='orange', linestyle = '-.')\n",
    "_ = plt.title('Total Sales Distribution', fontsize=20)\n",
    "_ = plt.legend()\n",
    "plt.show()"
   ]
  },
  {
   "cell_type": "code",
   "execution_count": 20,
   "metadata": {},
   "outputs": [
    {
     "data": {
      "text/html": [
       "<div>\n",
       "<style scoped>\n",
       "    .dataframe tbody tr th:only-of-type {\n",
       "        vertical-align: middle;\n",
       "    }\n",
       "\n",
       "    .dataframe tbody tr th {\n",
       "        vertical-align: top;\n",
       "    }\n",
       "\n",
       "    .dataframe thead th {\n",
       "        text-align: right;\n",
       "    }\n",
       "</style>\n",
       "<table border=\"1\" class=\"dataframe\">\n",
       "  <thead>\n",
       "    <tr style=\"text-align: right;\">\n",
       "      <th></th>\n",
       "      <th>Year</th>\n",
       "      <th>Item Cost</th>\n",
       "      <th>Item Price</th>\n",
       "      <th>Unit Sales</th>\n",
       "      <th>Dollar Sales</th>\n",
       "      <th>Profit Margin</th>\n",
       "    </tr>\n",
       "  </thead>\n",
       "  <tbody>\n",
       "    <tr>\n",
       "      <th>0.025</th>\n",
       "      <td>2017.0</td>\n",
       "      <td>71.0</td>\n",
       "      <td>138.0</td>\n",
       "      <td>900.0</td>\n",
       "      <td>130800.0</td>\n",
       "      <td>17850.0</td>\n",
       "    </tr>\n",
       "    <tr>\n",
       "      <th>0.975</th>\n",
       "      <td>2017.0</td>\n",
       "      <td>131.0</td>\n",
       "      <td>197.0</td>\n",
       "      <td>1190.0</td>\n",
       "      <td>223020.0</td>\n",
       "      <td>123960.0</td>\n",
       "    </tr>\n",
       "  </tbody>\n",
       "</table>\n",
       "</div>"
      ],
      "text/plain": [
       "         Year  Item Cost  Item Price  Unit Sales  Dollar Sales  Profit Margin\n",
       "0.025  2017.0       71.0       138.0       900.0      130800.0        17850.0\n",
       "0.975  2017.0      131.0       197.0      1190.0      223020.0       123960.0"
      ]
     },
     "execution_count": 20,
     "metadata": {},
     "output_type": "execute_result"
    }
   ],
   "source": [
    "year_2017.quantile([0.025, 0.975])"
   ]
  },
  {
   "cell_type": "code",
   "execution_count": 21,
   "metadata": {
    "scrolled": true
   },
   "outputs": [
    {
     "data": {
      "text/html": [
       "<div>\n",
       "<style scoped>\n",
       "    .dataframe tbody tr th:only-of-type {\n",
       "        vertical-align: middle;\n",
       "    }\n",
       "\n",
       "    .dataframe tbody tr th {\n",
       "        vertical-align: top;\n",
       "    }\n",
       "\n",
       "    .dataframe thead th {\n",
       "        text-align: right;\n",
       "    }\n",
       "</style>\n",
       "<table border=\"1\" class=\"dataframe\">\n",
       "  <thead>\n",
       "    <tr style=\"text-align: right;\">\n",
       "      <th></th>\n",
       "      <th>Year</th>\n",
       "      <th>Item Cost</th>\n",
       "      <th>Item Price</th>\n",
       "      <th>Unit Sales</th>\n",
       "      <th>Dollar Sales</th>\n",
       "      <th>Profit Margin</th>\n",
       "    </tr>\n",
       "  </thead>\n",
       "  <tbody>\n",
       "    <tr>\n",
       "      <th>0.025</th>\n",
       "      <td>2018.0</td>\n",
       "      <td>71.0</td>\n",
       "      <td>138.0</td>\n",
       "      <td>900.0</td>\n",
       "      <td>135045.0</td>\n",
       "      <td>19035.0</td>\n",
       "    </tr>\n",
       "    <tr>\n",
       "      <th>0.975</th>\n",
       "      <td>2018.0</td>\n",
       "      <td>131.5</td>\n",
       "      <td>198.0</td>\n",
       "      <td>1245.0</td>\n",
       "      <td>240697.5</td>\n",
       "      <td>128170.0</td>\n",
       "    </tr>\n",
       "  </tbody>\n",
       "</table>\n",
       "</div>"
      ],
      "text/plain": [
       "         Year  Item Cost  Item Price  Unit Sales  Dollar Sales  Profit Margin\n",
       "0.025  2018.0       71.0       138.0       900.0      135045.0        19035.0\n",
       "0.975  2018.0      131.5       198.0      1245.0      240697.5       128170.0"
      ]
     },
     "execution_count": 21,
     "metadata": {},
     "output_type": "execute_result"
    }
   ],
   "source": [
    "year_2018.quantile([0.025, 0.975])"
   ]
  },
  {
   "cell_type": "code",
   "execution_count": 22,
   "metadata": {},
   "outputs": [
    {
     "data": {
      "text/plain": [
       "array([135045. , 240697.5])"
      ]
     },
     "execution_count": 22,
     "metadata": {},
     "output_type": "execute_result"
    }
   ],
   "source": [
    "np.percentile(year_2018['Dollar Sales'], [2.5, 97.5])"
   ]
  },
  {
   "cell_type": "markdown",
   "metadata": {},
   "source": [
    "---"
   ]
  },
  {
   "cell_type": "markdown",
   "metadata": {},
   "source": [
    "## 2. What were the Profit Margin results in 2018?"
   ]
  },
  {
   "cell_type": "code",
   "execution_count": 23,
   "metadata": {},
   "outputs": [
    {
     "data": {
      "text/plain": [
       "Year\n",
       "2017    35058500\n",
       "2018    35912170\n",
       "Name: Profit Margin, dtype: int64"
      ]
     },
     "execution_count": 23,
     "metadata": {},
     "output_type": "execute_result"
    }
   ],
   "source": [
    "# We want to group the data by year (and set the year as the index) then sum up the values in the \"Profit Margin\"\n",
    "# column for each year\n",
    "total_profit_margin = df.groupby('Year', as_index=True)['Profit Margin'].sum()\n",
    "total_profit_margin"
   ]
  },
  {
   "cell_type": "code",
   "execution_count": 24,
   "metadata": {
    "scrolled": true
   },
   "outputs": [
    {
     "name": "stdout",
     "output_type": "stream",
     "text": [
      "The total profit margin in 2018 were equal to $35,912,170.00, as opposed to $35,058,500.00 in 2017.\n",
      "This means the company saw a positive growth of 2.43% in 2018.\n"
     ]
    }
   ],
   "source": [
    "# Using our new index (2017 and 2018) to assign the values to a variable\n",
    "total_profit_margin_2018 = total_profit_margin.loc[2018]\n",
    "total_profit_margin_2017 = total_profit_margin.loc[2017]\n",
    "\n",
    "\n",
    "\n",
    "# Here we print the total profit margin for both years\n",
    "print('The total profit margin in 2018 were equal to ${0:,.2f}, as opposed to ${1:,.2f} in 2017.'\\\n",
    "      .format(total_profit_margin_2018, total_profit_margin_2017))\n",
    "\n",
    "\n",
    "\n",
    "# If the value in 2018 was greater than in 2017, the company experienced positive growth.\n",
    "if total_profit_margin_2018 > total_profit_margin_2017:\n",
    "    print('This means the company saw a positive growth of {:.2f}% in 2018.'\\\n",
    "          .format((total_profit_margin_2018-total_profit_margin_2017)/total_profit_margin_2017*100))\n",
    "\n",
    "# Otherwise, if the value in 2018 was less than in 2017, the company experienced negative growth.    \n",
    "elif total_profit_margin_2018 < total_profit_margin_2017:\n",
    "    print('This means the company saw a negative growth of {:.2f}% in 2018.'\\\n",
    "          .format(abs(total_profit_margin_2018-total_profit_margin_2017)/total_profit_margin_2017*100))\n",
    "\n",
    "# Otherwise, if the values for 2018 and 2017 are equal, the company experienced no growth.     \n",
    "elif total_profit_margin_2018 == total_profit_margin_2017:\n",
    "    print('There was no change in 2018.')\n",
    "\n",
    "# And finally, if none of the above cases are true and no other error has been thrown, there could still be an issue \n",
    "# that we need to look more closely at.  \n",
    "else:\n",
    "    print('Error: Please check input values')"
   ]
  },
  {
   "cell_type": "code",
   "execution_count": 25,
   "metadata": {},
   "outputs": [
    {
     "data": {
      "image/png": "[encoded data removed]",
      "text/plain": [
       "<Figure size 720x576 with 1 Axes>"
      ]
     },
     "metadata": {
      "needs_background": "light"
     },
     "output_type": "display_data"
    }
   ],
   "source": [
    "# Creating a histogram so we can see the distribution of profit margin for each of the items\n",
    "\n",
    "# We will re-use the variables below that we calculated in Question #1:\n",
    "# year_2018 = df.loc[df['Year'] == 2018]\n",
    "# year_2017 = df.loc[df['Year'] == 2017]\n",
    "\n",
    "# Creating the distribution plot of profit margin\n",
    "fig, ax = plt.subplots(figsize=(10,8))\n",
    "_ = sns.distplot(a=year_2018['Profit Margin'], ax=ax, bins=50, rug=True, label=year_2018['Year'])\n",
    "_ = sns.distplot(a=year_2017['Profit Margin'], ax=ax, bins=50, rug=True, label=year_2017['Year'])\n",
    "_ = plt.title('Profit Margin Distribution', fontsize=20)\n",
    "_ = plt.legend()\n",
    "plt.show()"
   ]
  },
  {
   "cell_type": "markdown",
   "metadata": {},
   "source": [
    "---"
   ]
  },
  {
   "cell_type": "markdown",
   "metadata": {},
   "source": [
    "## 3. Was the business impacted by Price Increases in 2018?"
   ]
  },
  {
   "cell_type": "code",
   "execution_count": 26,
   "metadata": {},
   "outputs": [
    {
     "data": {
      "text/html": [
       "<div>\n",
       "<style scoped>\n",
       "    .dataframe tbody tr th:only-of-type {\n",
       "        vertical-align: middle;\n",
       "    }\n",
       "\n",
       "    .dataframe tbody tr th {\n",
       "        vertical-align: top;\n",
       "    }\n",
       "\n",
       "    .dataframe thead th {\n",
       "        text-align: right;\n",
       "    }\n",
       "</style>\n",
       "<table border=\"1\" class=\"dataframe\">\n",
       "  <thead>\n",
       "    <tr style=\"text-align: right;\">\n",
       "      <th></th>\n",
       "      <th>Item</th>\n",
       "      <th>Year_2017</th>\n",
       "      <th>Item Cost_2017</th>\n",
       "      <th>Item Price_2017</th>\n",
       "      <th>Unit Sales_2017</th>\n",
       "      <th>Dollar Sales_2017</th>\n",
       "      <th>Profit Margin_2017</th>\n",
       "      <th>Year_2018</th>\n",
       "      <th>Item Cost_2018</th>\n",
       "      <th>Item Price_2018</th>\n",
       "      <th>Unit Sales_2018</th>\n",
       "      <th>Dollar Sales_2018</th>\n",
       "      <th>Profit Margin_2018</th>\n",
       "    </tr>\n",
       "  </thead>\n",
       "  <tbody>\n",
       "    <tr>\n",
       "      <th>0</th>\n",
       "      <td>052020-1000</td>\n",
       "      <td>2017.0</td>\n",
       "      <td>119.0</td>\n",
       "      <td>145.0</td>\n",
       "      <td>1080.0</td>\n",
       "      <td>156600.0</td>\n",
       "      <td>28080.0</td>\n",
       "      <td>NaN</td>\n",
       "      <td>NaN</td>\n",
       "      <td>NaN</td>\n",
       "      <td>NaN</td>\n",
       "      <td>NaN</td>\n",
       "      <td>NaN</td>\n",
       "    </tr>\n",
       "    <tr>\n",
       "      <th>1</th>\n",
       "      <td>052020-1001</td>\n",
       "      <td>2017.0</td>\n",
       "      <td>108.0</td>\n",
       "      <td>176.0</td>\n",
       "      <td>920.0</td>\n",
       "      <td>161920.0</td>\n",
       "      <td>62560.0</td>\n",
       "      <td>NaN</td>\n",
       "      <td>NaN</td>\n",
       "      <td>NaN</td>\n",
       "      <td>NaN</td>\n",
       "      <td>NaN</td>\n",
       "      <td>NaN</td>\n",
       "    </tr>\n",
       "    <tr>\n",
       "      <th>2</th>\n",
       "      <td>052020-1002</td>\n",
       "      <td>2017.0</td>\n",
       "      <td>81.0</td>\n",
       "      <td>160.0</td>\n",
       "      <td>950.0</td>\n",
       "      <td>152000.0</td>\n",
       "      <td>75050.0</td>\n",
       "      <td>NaN</td>\n",
       "      <td>NaN</td>\n",
       "      <td>NaN</td>\n",
       "      <td>NaN</td>\n",
       "      <td>NaN</td>\n",
       "      <td>NaN</td>\n",
       "    </tr>\n",
       "    <tr>\n",
       "      <th>3</th>\n",
       "      <td>052020-1003</td>\n",
       "      <td>2017.0</td>\n",
       "      <td>93.0</td>\n",
       "      <td>173.0</td>\n",
       "      <td>1130.0</td>\n",
       "      <td>195490.0</td>\n",
       "      <td>90400.0</td>\n",
       "      <td>NaN</td>\n",
       "      <td>NaN</td>\n",
       "      <td>NaN</td>\n",
       "      <td>NaN</td>\n",
       "      <td>NaN</td>\n",
       "      <td>NaN</td>\n",
       "    </tr>\n",
       "    <tr>\n",
       "      <th>4</th>\n",
       "      <td>052020-1004</td>\n",
       "      <td>2017.0</td>\n",
       "      <td>102.0</td>\n",
       "      <td>145.0</td>\n",
       "      <td>1150.0</td>\n",
       "      <td>166750.0</td>\n",
       "      <td>49450.0</td>\n",
       "      <td>NaN</td>\n",
       "      <td>NaN</td>\n",
       "      <td>NaN</td>\n",
       "      <td>NaN</td>\n",
       "      <td>NaN</td>\n",
       "      <td>NaN</td>\n",
       "    </tr>\n",
       "    <tr>\n",
       "      <th>...</th>\n",
       "      <td>...</td>\n",
       "      <td>...</td>\n",
       "      <td>...</td>\n",
       "      <td>...</td>\n",
       "      <td>...</td>\n",
       "      <td>...</td>\n",
       "      <td>...</td>\n",
       "      <td>...</td>\n",
       "      <td>...</td>\n",
       "      <td>...</td>\n",
       "      <td>...</td>\n",
       "      <td>...</td>\n",
       "      <td>...</td>\n",
       "    </tr>\n",
       "    <tr>\n",
       "      <th>506</th>\n",
       "      <td>052020-1506</td>\n",
       "      <td>NaN</td>\n",
       "      <td>NaN</td>\n",
       "      <td>NaN</td>\n",
       "      <td>NaN</td>\n",
       "      <td>NaN</td>\n",
       "      <td>NaN</td>\n",
       "      <td>2018.0</td>\n",
       "      <td>100.0</td>\n",
       "      <td>132.0</td>\n",
       "      <td>1900.0</td>\n",
       "      <td>250800.0</td>\n",
       "      <td>60800.0</td>\n",
       "    </tr>\n",
       "    <tr>\n",
       "      <th>507</th>\n",
       "      <td>052020-1507</td>\n",
       "      <td>NaN</td>\n",
       "      <td>NaN</td>\n",
       "      <td>NaN</td>\n",
       "      <td>NaN</td>\n",
       "      <td>NaN</td>\n",
       "      <td>NaN</td>\n",
       "      <td>2018.0</td>\n",
       "      <td>100.0</td>\n",
       "      <td>132.0</td>\n",
       "      <td>2000.0</td>\n",
       "      <td>264000.0</td>\n",
       "      <td>64000.0</td>\n",
       "    </tr>\n",
       "    <tr>\n",
       "      <th>508</th>\n",
       "      <td>052020-1508</td>\n",
       "      <td>NaN</td>\n",
       "      <td>NaN</td>\n",
       "      <td>NaN</td>\n",
       "      <td>NaN</td>\n",
       "      <td>NaN</td>\n",
       "      <td>NaN</td>\n",
       "      <td>2018.0</td>\n",
       "      <td>100.0</td>\n",
       "      <td>131.0</td>\n",
       "      <td>2000.0</td>\n",
       "      <td>262000.0</td>\n",
       "      <td>62000.0</td>\n",
       "    </tr>\n",
       "    <tr>\n",
       "      <th>509</th>\n",
       "      <td>052020-1509</td>\n",
       "      <td>NaN</td>\n",
       "      <td>NaN</td>\n",
       "      <td>NaN</td>\n",
       "      <td>NaN</td>\n",
       "      <td>NaN</td>\n",
       "      <td>NaN</td>\n",
       "      <td>2018.0</td>\n",
       "      <td>100.0</td>\n",
       "      <td>130.0</td>\n",
       "      <td>2100.0</td>\n",
       "      <td>273000.0</td>\n",
       "      <td>63000.0</td>\n",
       "    </tr>\n",
       "    <tr>\n",
       "      <th>510</th>\n",
       "      <td>052020-1510</td>\n",
       "      <td>NaN</td>\n",
       "      <td>NaN</td>\n",
       "      <td>NaN</td>\n",
       "      <td>NaN</td>\n",
       "      <td>NaN</td>\n",
       "      <td>NaN</td>\n",
       "      <td>2018.0</td>\n",
       "      <td>100.0</td>\n",
       "      <td>130.0</td>\n",
       "      <td>2000.0</td>\n",
       "      <td>260000.0</td>\n",
       "      <td>60000.0</td>\n",
       "    </tr>\n",
       "  </tbody>\n",
       "</table>\n",
       "<p>511 rows × 13 columns</p>\n",
       "</div>"
      ],
      "text/plain": [
       "            Item  Year_2017  Item Cost_2017  Item Price_2017  Unit Sales_2017  \\\n",
       "0    052020-1000     2017.0           119.0            145.0           1080.0   \n",
       "1    052020-1001     2017.0           108.0            176.0            920.0   \n",
       "2    052020-1002     2017.0            81.0            160.0            950.0   \n",
       "3    052020-1003     2017.0            93.0            173.0           1130.0   \n",
       "4    052020-1004     2017.0           102.0            145.0           1150.0   \n",
       "..           ...        ...             ...              ...              ...   \n",
       "506  052020-1506        NaN             NaN              NaN              NaN   \n",
       "507  052020-1507        NaN             NaN              NaN              NaN   \n",
       "508  052020-1508        NaN             NaN              NaN              NaN   \n",
       "509  052020-1509        NaN             NaN              NaN              NaN   \n",
       "510  052020-1510        NaN             NaN              NaN              NaN   \n",
       "\n",
       "     Dollar Sales_2017  Profit Margin_2017  Year_2018  Item Cost_2018  \\\n",
       "0             156600.0             28080.0        NaN             NaN   \n",
       "1             161920.0             62560.0        NaN             NaN   \n",
       "2             152000.0             75050.0        NaN             NaN   \n",
       "3             195490.0             90400.0        NaN             NaN   \n",
       "4             166750.0             49450.0        NaN             NaN   \n",
       "..                 ...                 ...        ...             ...   \n",
       "506                NaN                 NaN     2018.0           100.0   \n",
       "507                NaN                 NaN     2018.0           100.0   \n",
       "508                NaN                 NaN     2018.0           100.0   \n",
       "509                NaN                 NaN     2018.0           100.0   \n",
       "510                NaN                 NaN     2018.0           100.0   \n",
       "\n",
       "     Item Price_2018  Unit Sales_2018  Dollar Sales_2018  Profit Margin_2018  \n",
       "0                NaN              NaN                NaN                 NaN  \n",
       "1                NaN              NaN                NaN                 NaN  \n",
       "2                NaN              NaN                NaN                 NaN  \n",
       "3                NaN              NaN                NaN                 NaN  \n",
       "4                NaN              NaN                NaN                 NaN  \n",
       "..               ...              ...                ...                 ...  \n",
       "506            132.0           1900.0           250800.0             60800.0  \n",
       "507            132.0           2000.0           264000.0             64000.0  \n",
       "508            131.0           2000.0           262000.0             62000.0  \n",
       "509            130.0           2100.0           273000.0             63000.0  \n",
       "510            130.0           2000.0           260000.0             60000.0  \n",
       "\n",
       "[511 rows x 13 columns]"
      ]
     },
     "execution_count": 26,
     "metadata": {},
     "output_type": "execute_result"
    }
   ],
   "source": [
    "years_merged = year_2017.merge(year_2018, on='Item', how='outer', suffixes=('_2017', '_2018'))\n",
    "years_merged"
   ]
  },
  {
   "cell_type": "code",
   "execution_count": 27,
   "metadata": {},
   "outputs": [
    {
     "data": {
      "text/html": [
       "<div>\n",
       "<style scoped>\n",
       "    .dataframe tbody tr th:only-of-type {\n",
       "        vertical-align: middle;\n",
       "    }\n",
       "\n",
       "    .dataframe tbody tr th {\n",
       "        vertical-align: top;\n",
       "    }\n",
       "\n",
       "    .dataframe thead th {\n",
       "        text-align: right;\n",
       "    }\n",
       "</style>\n",
       "<table border=\"1\" class=\"dataframe\">\n",
       "  <thead>\n",
       "    <tr style=\"text-align: right;\">\n",
       "      <th></th>\n",
       "      <th>Item</th>\n",
       "      <th>Item Cost_2017</th>\n",
       "      <th>Item Price_2017</th>\n",
       "      <th>Unit Sales_2017</th>\n",
       "      <th>Dollar Sales_2017</th>\n",
       "      <th>Profit Margin_2017</th>\n",
       "      <th>Item Cost_2018</th>\n",
       "      <th>Item Price_2018</th>\n",
       "      <th>Unit Sales_2018</th>\n",
       "      <th>Dollar Sales_2018</th>\n",
       "      <th>Profit Margin_2018</th>\n",
       "    </tr>\n",
       "  </thead>\n",
       "  <tbody>\n",
       "    <tr>\n",
       "      <th>0</th>\n",
       "      <td>052020-1010</td>\n",
       "      <td>97.0</td>\n",
       "      <td>144.0</td>\n",
       "      <td>1200.0</td>\n",
       "      <td>172800.0</td>\n",
       "      <td>56400.0</td>\n",
       "      <td>100.0</td>\n",
       "      <td>148.0</td>\n",
       "      <td>1175.0</td>\n",
       "      <td>173900.0</td>\n",
       "      <td>56400.0</td>\n",
       "    </tr>\n",
       "    <tr>\n",
       "      <th>1</th>\n",
       "      <td>052020-1011</td>\n",
       "      <td>94.0</td>\n",
       "      <td>156.0</td>\n",
       "      <td>1170.0</td>\n",
       "      <td>182520.0</td>\n",
       "      <td>72540.0</td>\n",
       "      <td>94.0</td>\n",
       "      <td>156.0</td>\n",
       "      <td>1205.0</td>\n",
       "      <td>187980.0</td>\n",
       "      <td>74710.0</td>\n",
       "    </tr>\n",
       "    <tr>\n",
       "      <th>2</th>\n",
       "      <td>052020-1012</td>\n",
       "      <td>78.0</td>\n",
       "      <td>160.0</td>\n",
       "      <td>1160.0</td>\n",
       "      <td>185600.0</td>\n",
       "      <td>95120.0</td>\n",
       "      <td>86.0</td>\n",
       "      <td>176.0</td>\n",
       "      <td>1125.0</td>\n",
       "      <td>198000.0</td>\n",
       "      <td>101250.0</td>\n",
       "    </tr>\n",
       "    <tr>\n",
       "      <th>3</th>\n",
       "      <td>052020-1013</td>\n",
       "      <td>118.0</td>\n",
       "      <td>169.0</td>\n",
       "      <td>1010.0</td>\n",
       "      <td>170690.0</td>\n",
       "      <td>51510.0</td>\n",
       "      <td>124.0</td>\n",
       "      <td>178.0</td>\n",
       "      <td>980.0</td>\n",
       "      <td>174440.0</td>\n",
       "      <td>52920.0</td>\n",
       "    </tr>\n",
       "    <tr>\n",
       "      <th>4</th>\n",
       "      <td>052020-1014</td>\n",
       "      <td>71.0</td>\n",
       "      <td>141.0</td>\n",
       "      <td>1020.0</td>\n",
       "      <td>143820.0</td>\n",
       "      <td>71400.0</td>\n",
       "      <td>71.0</td>\n",
       "      <td>141.0</td>\n",
       "      <td>1050.0</td>\n",
       "      <td>148050.0</td>\n",
       "      <td>73500.0</td>\n",
       "    </tr>\n",
       "    <tr>\n",
       "      <th>...</th>\n",
       "      <td>...</td>\n",
       "      <td>...</td>\n",
       "      <td>...</td>\n",
       "      <td>...</td>\n",
       "      <td>...</td>\n",
       "      <td>...</td>\n",
       "      <td>...</td>\n",
       "      <td>...</td>\n",
       "      <td>...</td>\n",
       "      <td>...</td>\n",
       "      <td>...</td>\n",
       "    </tr>\n",
       "    <tr>\n",
       "      <th>486</th>\n",
       "      <td>052020-1496</td>\n",
       "      <td>120.0</td>\n",
       "      <td>186.0</td>\n",
       "      <td>960.0</td>\n",
       "      <td>178560.0</td>\n",
       "      <td>63360.0</td>\n",
       "      <td>120.0</td>\n",
       "      <td>186.0</td>\n",
       "      <td>980.0</td>\n",
       "      <td>182280.0</td>\n",
       "      <td>64680.0</td>\n",
       "    </tr>\n",
       "    <tr>\n",
       "      <th>487</th>\n",
       "      <td>052020-1497</td>\n",
       "      <td>103.0</td>\n",
       "      <td>154.0</td>\n",
       "      <td>1000.0</td>\n",
       "      <td>154000.0</td>\n",
       "      <td>51000.0</td>\n",
       "      <td>103.0</td>\n",
       "      <td>154.0</td>\n",
       "      <td>1040.0</td>\n",
       "      <td>160160.0</td>\n",
       "      <td>53040.0</td>\n",
       "    </tr>\n",
       "    <tr>\n",
       "      <th>488</th>\n",
       "      <td>052020-1498</td>\n",
       "      <td>99.0</td>\n",
       "      <td>177.0</td>\n",
       "      <td>900.0</td>\n",
       "      <td>159300.0</td>\n",
       "      <td>70200.0</td>\n",
       "      <td>99.0</td>\n",
       "      <td>177.0</td>\n",
       "      <td>910.0</td>\n",
       "      <td>161070.0</td>\n",
       "      <td>70980.0</td>\n",
       "    </tr>\n",
       "    <tr>\n",
       "      <th>489</th>\n",
       "      <td>052020-1499</td>\n",
       "      <td>105.0</td>\n",
       "      <td>185.0</td>\n",
       "      <td>900.0</td>\n",
       "      <td>166500.0</td>\n",
       "      <td>72000.0</td>\n",
       "      <td>105.0</td>\n",
       "      <td>185.0</td>\n",
       "      <td>910.0</td>\n",
       "      <td>168350.0</td>\n",
       "      <td>72800.0</td>\n",
       "    </tr>\n",
       "    <tr>\n",
       "      <th>490</th>\n",
       "      <td>052020-1500</td>\n",
       "      <td>86.0</td>\n",
       "      <td>183.0</td>\n",
       "      <td>940.0</td>\n",
       "      <td>172020.0</td>\n",
       "      <td>91180.0</td>\n",
       "      <td>86.0</td>\n",
       "      <td>183.0</td>\n",
       "      <td>980.0</td>\n",
       "      <td>179340.0</td>\n",
       "      <td>95060.0</td>\n",
       "    </tr>\n",
       "  </tbody>\n",
       "</table>\n",
       "<p>491 rows × 11 columns</p>\n",
       "</div>"
      ],
      "text/plain": [
       "            Item  Item Cost_2017  Item Price_2017  Unit Sales_2017  \\\n",
       "0    052020-1010            97.0            144.0           1200.0   \n",
       "1    052020-1011            94.0            156.0           1170.0   \n",
       "2    052020-1012            78.0            160.0           1160.0   \n",
       "3    052020-1013           118.0            169.0           1010.0   \n",
       "4    052020-1014            71.0            141.0           1020.0   \n",
       "..           ...             ...              ...              ...   \n",
       "486  052020-1496           120.0            186.0            960.0   \n",
       "487  052020-1497           103.0            154.0           1000.0   \n",
       "488  052020-1498            99.0            177.0            900.0   \n",
       "489  052020-1499           105.0            185.0            900.0   \n",
       "490  052020-1500            86.0            183.0            940.0   \n",
       "\n",
       "     Dollar Sales_2017  Profit Margin_2017  Item Cost_2018  Item Price_2018  \\\n",
       "0             172800.0             56400.0           100.0            148.0   \n",
       "1             182520.0             72540.0            94.0            156.0   \n",
       "2             185600.0             95120.0            86.0            176.0   \n",
       "3             170690.0             51510.0           124.0            178.0   \n",
       "4             143820.0             71400.0            71.0            141.0   \n",
       "..                 ...                 ...             ...              ...   \n",
       "486           178560.0             63360.0           120.0            186.0   \n",
       "487           154000.0             51000.0           103.0            154.0   \n",
       "488           159300.0             70200.0            99.0            177.0   \n",
       "489           166500.0             72000.0           105.0            185.0   \n",
       "490           172020.0             91180.0            86.0            183.0   \n",
       "\n",
       "     Unit Sales_2018  Dollar Sales_2018  Profit Margin_2018  \n",
       "0             1175.0           173900.0             56400.0  \n",
       "1             1205.0           187980.0             74710.0  \n",
       "2             1125.0           198000.0            101250.0  \n",
       "3              980.0           174440.0             52920.0  \n",
       "4             1050.0           148050.0             73500.0  \n",
       "..               ...                ...                 ...  \n",
       "486            980.0           182280.0             64680.0  \n",
       "487           1040.0           160160.0             53040.0  \n",
       "488            910.0           161070.0             70980.0  \n",
       "489            910.0           168350.0             72800.0  \n",
       "490            980.0           179340.0             95060.0  \n",
       "\n",
       "[491 rows x 11 columns]"
      ]
     },
     "execution_count": 27,
     "metadata": {},
     "output_type": "execute_result"
    }
   ],
   "source": [
    "years_merged_cleaned = years_merged.dropna().reset_index(drop=True).drop(['Year_2017', 'Year_2018'], axis=1)\n",
    "years_merged_cleaned"
   ]
  },
  {
   "cell_type": "code",
   "execution_count": 28,
   "metadata": {},
   "outputs": [
    {
     "data": {
      "text/html": [
       "<div>\n",
       "<style scoped>\n",
       "    .dataframe tbody tr th:only-of-type {\n",
       "        vertical-align: middle;\n",
       "    }\n",
       "\n",
       "    .dataframe tbody tr th {\n",
       "        vertical-align: top;\n",
       "    }\n",
       "\n",
       "    .dataframe thead th {\n",
       "        text-align: right;\n",
       "    }\n",
       "</style>\n",
       "<table border=\"1\" class=\"dataframe\">\n",
       "  <thead>\n",
       "    <tr style=\"text-align: right;\">\n",
       "      <th></th>\n",
       "      <th>Item</th>\n",
       "      <th>Item Cost_2017</th>\n",
       "      <th>Item Price_2017</th>\n",
       "      <th>Unit Sales_2017</th>\n",
       "      <th>Dollar Sales_2017</th>\n",
       "      <th>Profit Margin_2017</th>\n",
       "      <th>Item Cost_2018</th>\n",
       "      <th>Item Price_2018</th>\n",
       "      <th>Unit Sales_2018</th>\n",
       "      <th>Dollar Sales_2018</th>\n",
       "      <th>Profit Margin_2018</th>\n",
       "    </tr>\n",
       "  </thead>\n",
       "  <tbody>\n",
       "    <tr>\n",
       "      <th>0</th>\n",
       "      <td>052020-1010</td>\n",
       "      <td>97.0</td>\n",
       "      <td>144.0</td>\n",
       "      <td>1200.0</td>\n",
       "      <td>172800.0</td>\n",
       "      <td>56400.0</td>\n",
       "      <td>100.0</td>\n",
       "      <td>148.0</td>\n",
       "      <td>1175.0</td>\n",
       "      <td>173900.0</td>\n",
       "      <td>56400.0</td>\n",
       "    </tr>\n",
       "    <tr>\n",
       "      <th>1</th>\n",
       "      <td>052020-1012</td>\n",
       "      <td>78.0</td>\n",
       "      <td>160.0</td>\n",
       "      <td>1160.0</td>\n",
       "      <td>185600.0</td>\n",
       "      <td>95120.0</td>\n",
       "      <td>86.0</td>\n",
       "      <td>176.0</td>\n",
       "      <td>1125.0</td>\n",
       "      <td>198000.0</td>\n",
       "      <td>101250.0</td>\n",
       "    </tr>\n",
       "    <tr>\n",
       "      <th>2</th>\n",
       "      <td>052020-1013</td>\n",
       "      <td>118.0</td>\n",
       "      <td>169.0</td>\n",
       "      <td>1010.0</td>\n",
       "      <td>170690.0</td>\n",
       "      <td>51510.0</td>\n",
       "      <td>124.0</td>\n",
       "      <td>178.0</td>\n",
       "      <td>980.0</td>\n",
       "      <td>174440.0</td>\n",
       "      <td>52920.0</td>\n",
       "    </tr>\n",
       "  </tbody>\n",
       "</table>\n",
       "</div>"
      ],
      "text/plain": [
       "          Item  Item Cost_2017  Item Price_2017  Unit Sales_2017  \\\n",
       "0  052020-1010            97.0            144.0           1200.0   \n",
       "1  052020-1012            78.0            160.0           1160.0   \n",
       "2  052020-1013           118.0            169.0           1010.0   \n",
       "\n",
       "   Dollar Sales_2017  Profit Margin_2017  Item Cost_2018  Item Price_2018  \\\n",
       "0           172800.0             56400.0           100.0            148.0   \n",
       "1           185600.0             95120.0            86.0            176.0   \n",
       "2           170690.0             51510.0           124.0            178.0   \n",
       "\n",
       "   Unit Sales_2018  Dollar Sales_2018  Profit Margin_2018  \n",
       "0           1175.0           173900.0             56400.0  \n",
       "1           1125.0           198000.0            101250.0  \n",
       "2            980.0           174440.0             52920.0  "
      ]
     },
     "execution_count": 28,
     "metadata": {},
     "output_type": "execute_result"
    }
   ],
   "source": [
    "price_increase_items = []\n",
    "for index, row in years_merged_cleaned.iterrows():\n",
    "    if years_merged_cleaned['Item Price_2018'].iloc[index] > years_merged_cleaned['Item Price_2017'].iloc[index]:\n",
    "        price_increase_items.append(row)\n",
    "\n",
    "price_increase_info = pd.DataFrame(price_increase_items).reset_index(drop=True)\n",
    "price_increase_info.head(3)\n",
    "\n",
    "# Compare item-wise pandas\n",
    "# Or 2017-2018 is >0"
   ]
  },
  {
   "cell_type": "code",
   "execution_count": 29,
   "metadata": {},
   "outputs": [
    {
     "data": {
      "text/plain": [
       "60"
      ]
     },
     "execution_count": 29,
     "metadata": {},
     "output_type": "execute_result"
    }
   ],
   "source": [
    "len(price_increase_items)"
   ]
  },
  {
   "cell_type": "code",
   "execution_count": 30,
   "metadata": {},
   "outputs": [
    {
     "data": {
      "text/plain": [
       "404705.0"
      ]
     },
     "execution_count": 30,
     "metadata": {},
     "output_type": "execute_result"
    }
   ],
   "source": [
    "price_increase_info['Dollar Sales_2018'].sum() - price_increase_info['Dollar Sales_2017'].sum()"
   ]
  },
  {
   "cell_type": "markdown",
   "metadata": {},
   "source": [
    "Even with a price increase in these 60 items, they still saw a sales increase of $404,705.00 in 2018."
   ]
  },
  {
   "cell_type": "code",
   "execution_count": 31,
   "metadata": {},
   "outputs": [
    {
     "data": {
      "text/html": [
       "<div>\n",
       "<style scoped>\n",
       "    .dataframe tbody tr th:only-of-type {\n",
       "        vertical-align: middle;\n",
       "    }\n",
       "\n",
       "    .dataframe tbody tr th {\n",
       "        vertical-align: top;\n",
       "    }\n",
       "\n",
       "    .dataframe thead th {\n",
       "        text-align: right;\n",
       "    }\n",
       "</style>\n",
       "<table border=\"1\" class=\"dataframe\">\n",
       "  <thead>\n",
       "    <tr style=\"text-align: right;\">\n",
       "      <th></th>\n",
       "      <th>Item</th>\n",
       "      <th>Item Cost_2017</th>\n",
       "      <th>Item Price_2017</th>\n",
       "      <th>Unit Sales_2017</th>\n",
       "      <th>Dollar Sales_2017</th>\n",
       "      <th>Profit Margin_2017</th>\n",
       "      <th>Item Cost_2018</th>\n",
       "      <th>Item Price_2018</th>\n",
       "      <th>Unit Sales_2018</th>\n",
       "      <th>Dollar Sales_2018</th>\n",
       "      <th>Profit Margin_2018</th>\n",
       "    </tr>\n",
       "  </thead>\n",
       "  <tbody>\n",
       "    <tr>\n",
       "      <th>15</th>\n",
       "      <td>052020-1033</td>\n",
       "      <td>87.0</td>\n",
       "      <td>189.0</td>\n",
       "      <td>940.0</td>\n",
       "      <td>177660.0</td>\n",
       "      <td>95880.0</td>\n",
       "      <td>96.0</td>\n",
       "      <td>208.0</td>\n",
       "      <td>840.0</td>\n",
       "      <td>174720.0</td>\n",
       "      <td>94080.0</td>\n",
       "    </tr>\n",
       "    <tr>\n",
       "      <th>17</th>\n",
       "      <td>052020-1036</td>\n",
       "      <td>100.0</td>\n",
       "      <td>188.0</td>\n",
       "      <td>900.0</td>\n",
       "      <td>169200.0</td>\n",
       "      <td>79200.0</td>\n",
       "      <td>110.0</td>\n",
       "      <td>207.0</td>\n",
       "      <td>810.0</td>\n",
       "      <td>167670.0</td>\n",
       "      <td>78570.0</td>\n",
       "    </tr>\n",
       "    <tr>\n",
       "      <th>21</th>\n",
       "      <td>052020-1042</td>\n",
       "      <td>83.0</td>\n",
       "      <td>189.0</td>\n",
       "      <td>1090.0</td>\n",
       "      <td>206010.0</td>\n",
       "      <td>115540.0</td>\n",
       "      <td>92.0</td>\n",
       "      <td>208.0</td>\n",
       "      <td>990.0</td>\n",
       "      <td>205920.0</td>\n",
       "      <td>114840.0</td>\n",
       "    </tr>\n",
       "    <tr>\n",
       "      <th>25</th>\n",
       "      <td>052020-1048</td>\n",
       "      <td>132.0</td>\n",
       "      <td>159.0</td>\n",
       "      <td>1120.0</td>\n",
       "      <td>178080.0</td>\n",
       "      <td>30240.0</td>\n",
       "      <td>146.0</td>\n",
       "      <td>175.0</td>\n",
       "      <td>1010.0</td>\n",
       "      <td>176750.0</td>\n",
       "      <td>29290.0</td>\n",
       "    </tr>\n",
       "    <tr>\n",
       "      <th>31</th>\n",
       "      <td>052020-1057</td>\n",
       "      <td>73.0</td>\n",
       "      <td>147.0</td>\n",
       "      <td>1010.0</td>\n",
       "      <td>148470.0</td>\n",
       "      <td>74740.0</td>\n",
       "      <td>81.0</td>\n",
       "      <td>162.0</td>\n",
       "      <td>900.0</td>\n",
       "      <td>145800.0</td>\n",
       "      <td>72900.0</td>\n",
       "    </tr>\n",
       "    <tr>\n",
       "      <th>39</th>\n",
       "      <td>052020-1069</td>\n",
       "      <td>111.0</td>\n",
       "      <td>186.0</td>\n",
       "      <td>1180.0</td>\n",
       "      <td>219480.0</td>\n",
       "      <td>88500.0</td>\n",
       "      <td>123.0</td>\n",
       "      <td>205.0</td>\n",
       "      <td>1055.0</td>\n",
       "      <td>216275.0</td>\n",
       "      <td>86510.0</td>\n",
       "    </tr>\n",
       "    <tr>\n",
       "      <th>47</th>\n",
       "      <td>052020-1081</td>\n",
       "      <td>86.0</td>\n",
       "      <td>198.0</td>\n",
       "      <td>990.0</td>\n",
       "      <td>196020.0</td>\n",
       "      <td>110880.0</td>\n",
       "      <td>95.0</td>\n",
       "      <td>218.0</td>\n",
       "      <td>880.0</td>\n",
       "      <td>191840.0</td>\n",
       "      <td>108240.0</td>\n",
       "    </tr>\n",
       "    <tr>\n",
       "      <th>49</th>\n",
       "      <td>052020-1084</td>\n",
       "      <td>72.0</td>\n",
       "      <td>169.0</td>\n",
       "      <td>1100.0</td>\n",
       "      <td>185900.0</td>\n",
       "      <td>106700.0</td>\n",
       "      <td>80.0</td>\n",
       "      <td>186.0</td>\n",
       "      <td>980.0</td>\n",
       "      <td>182280.0</td>\n",
       "      <td>103880.0</td>\n",
       "    </tr>\n",
       "    <tr>\n",
       "      <th>59</th>\n",
       "      <td>052020-1099</td>\n",
       "      <td>102.0</td>\n",
       "      <td>177.0</td>\n",
       "      <td>1150.0</td>\n",
       "      <td>203550.0</td>\n",
       "      <td>86250.0</td>\n",
       "      <td>102.0</td>\n",
       "      <td>195.0</td>\n",
       "      <td>1025.0</td>\n",
       "      <td>199875.0</td>\n",
       "      <td>95325.0</td>\n",
       "    </tr>\n",
       "  </tbody>\n",
       "</table>\n",
       "</div>"
      ],
      "text/plain": [
       "           Item  Item Cost_2017  Item Price_2017  Unit Sales_2017  \\\n",
       "15  052020-1033            87.0            189.0            940.0   \n",
       "17  052020-1036           100.0            188.0            900.0   \n",
       "21  052020-1042            83.0            189.0           1090.0   \n",
       "25  052020-1048           132.0            159.0           1120.0   \n",
       "31  052020-1057            73.0            147.0           1010.0   \n",
       "39  052020-1069           111.0            186.0           1180.0   \n",
       "47  052020-1081            86.0            198.0            990.0   \n",
       "49  052020-1084            72.0            169.0           1100.0   \n",
       "59  052020-1099           102.0            177.0           1150.0   \n",
       "\n",
       "    Dollar Sales_2017  Profit Margin_2017  Item Cost_2018  Item Price_2018  \\\n",
       "15           177660.0             95880.0            96.0            208.0   \n",
       "17           169200.0             79200.0           110.0            207.0   \n",
       "21           206010.0            115540.0            92.0            208.0   \n",
       "25           178080.0             30240.0           146.0            175.0   \n",
       "31           148470.0             74740.0            81.0            162.0   \n",
       "39           219480.0             88500.0           123.0            205.0   \n",
       "47           196020.0            110880.0            95.0            218.0   \n",
       "49           185900.0            106700.0            80.0            186.0   \n",
       "59           203550.0             86250.0           102.0            195.0   \n",
       "\n",
       "    Unit Sales_2018  Dollar Sales_2018  Profit Margin_2018  \n",
       "15            840.0           174720.0             94080.0  \n",
       "17            810.0           167670.0             78570.0  \n",
       "21            990.0           205920.0            114840.0  \n",
       "25           1010.0           176750.0             29290.0  \n",
       "31            900.0           145800.0             72900.0  \n",
       "39           1055.0           216275.0             86510.0  \n",
       "47            880.0           191840.0            108240.0  \n",
       "49            980.0           182280.0            103880.0  \n",
       "59           1025.0           199875.0             95325.0  "
      ]
     },
     "execution_count": 31,
     "metadata": {},
     "output_type": "execute_result"
    }
   ],
   "source": [
    "items_affected_by_increase = []\n",
    "for index, row in price_increase_info.iterrows():\n",
    "    if price_increase_info['Dollar Sales_2018'].iloc[index] < price_increase_info['Dollar Sales_2017'].iloc[index]:\n",
    "        items_affected_by_increase.append(row)\n",
    "        \n",
    "sold_less_w_increase = pd.DataFrame(items_affected_by_increase)\n",
    "sold_less_w_increase"
   ]
  },
  {
   "cell_type": "code",
   "execution_count": 32,
   "metadata": {},
   "outputs": [
    {
     "data": {
      "text/plain": [
       "9"
      ]
     },
     "execution_count": 32,
     "metadata": {},
     "output_type": "execute_result"
    }
   ],
   "source": [
    "len(sold_less_w_increase)"
   ]
  },
  {
   "cell_type": "code",
   "execution_count": 33,
   "metadata": {},
   "outputs": [
    {
     "name": "stdout",
     "output_type": "stream",
     "text": [
      "60 items saw a price increase but only 9 of those experienced a drop in sales\n"
     ]
    }
   ],
   "source": [
    "print(str(len(price_increase_items)), 'items saw a price increase but only', len(sold_less_w_increase), \n",
    "      'of those experienced a drop in sales')"
   ]
  },
  {
   "cell_type": "markdown",
   "metadata": {},
   "source": [
    "---"
   ]
  },
  {
   "cell_type": "markdown",
   "metadata": {},
   "source": [
    "## 4. Would you recommend eliminating any items from the assortment?"
   ]
  },
  {
   "cell_type": "code",
   "execution_count": 34,
   "metadata": {},
   "outputs": [
    {
     "data": {
      "text/html": [
       "<div>\n",
       "<style scoped>\n",
       "    .dataframe tbody tr th:only-of-type {\n",
       "        vertical-align: middle;\n",
       "    }\n",
       "\n",
       "    .dataframe tbody tr th {\n",
       "        vertical-align: top;\n",
       "    }\n",
       "\n",
       "    .dataframe thead th {\n",
       "        text-align: right;\n",
       "    }\n",
       "</style>\n",
       "<table border=\"1\" class=\"dataframe\">\n",
       "  <thead>\n",
       "    <tr style=\"text-align: right;\">\n",
       "      <th></th>\n",
       "      <th>Item</th>\n",
       "      <th>Year</th>\n",
       "      <th>Item Cost</th>\n",
       "      <th>Item Price</th>\n",
       "      <th>Unit Sales</th>\n",
       "      <th>Dollar Sales</th>\n",
       "      <th>Profit Margin</th>\n",
       "    </tr>\n",
       "  </thead>\n",
       "  <tbody>\n",
       "    <tr>\n",
       "      <th>364</th>\n",
       "      <td>052020-1374</td>\n",
       "      <td>2018</td>\n",
       "      <td>132</td>\n",
       "      <td>130</td>\n",
       "      <td>1000</td>\n",
       "      <td>130000</td>\n",
       "      <td>-2000</td>\n",
       "    </tr>\n",
       "    <tr>\n",
       "      <th>875</th>\n",
       "      <td>052020-1374</td>\n",
       "      <td>2017</td>\n",
       "      <td>132</td>\n",
       "      <td>130</td>\n",
       "      <td>970</td>\n",
       "      <td>126100</td>\n",
       "      <td>-1940</td>\n",
       "    </tr>\n",
       "  </tbody>\n",
       "</table>\n",
       "</div>"
      ],
      "text/plain": [
       "            Item  Year  Item Cost  Item Price  Unit Sales  Dollar Sales  \\\n",
       "364  052020-1374  2018        132         130        1000        130000   \n",
       "875  052020-1374  2017        132         130         970        126100   \n",
       "\n",
       "     Profit Margin  \n",
       "364          -2000  \n",
       "875          -1940  "
      ]
     },
     "execution_count": 34,
     "metadata": {},
     "output_type": "execute_result"
    }
   ],
   "source": [
    "# Here we are looking at the dataframe to see if any items have a negative profit margin\n",
    "negative_margin = df.loc[df['Profit Margin'] < 0] \n",
    "# Instead of 0, we could also use another threshold, i.e. if the company wanted to drop any items with a profit margin\n",
    "# less than $10,000\n",
    "\n",
    "negative_margin"
   ]
  },
  {
   "cell_type": "code",
   "execution_count": 35,
   "metadata": {},
   "outputs": [
    {
     "data": {
      "text/plain": [
       "'052020-1374'"
      ]
     },
     "execution_count": 35,
     "metadata": {},
     "output_type": "execute_result"
    }
   ],
   "source": [
    "# As seen above, items sold in both 2017 and 2018 will appear twice in our original dataframe. We want to list each\n",
    "# item only once.\n",
    "# Using the .unique() method returns an array with the value/string we are looking for, along with the data type. For\n",
    "# this reason, we want the [0] index of the array (just the item number).\n",
    "items_to_remove = negative_margin['Item'].unique()[0]\n",
    "items_to_remove"
   ]
  },
  {
   "cell_type": "code",
   "execution_count": 36,
   "metadata": {
    "scrolled": true
   },
   "outputs": [
    {
     "name": "stdout",
     "output_type": "stream",
     "text": [
      "I would suggest removing Item # 052020-1374\n"
     ]
    }
   ],
   "source": [
    "print('I would suggest removing Item #', items_to_remove)"
   ]
  },
  {
   "cell_type": "markdown",
   "metadata": {},
   "source": [
    "---"
   ]
  },
  {
   "cell_type": "markdown",
   "metadata": {},
   "source": [
    "## 5. Were the new items in 2018 successful?"
   ]
  },
  {
   "cell_type": "code",
   "execution_count": 37,
   "metadata": {},
   "outputs": [
    {
     "data": {
      "text/plain": [
       "['052020-1501',\n",
       " '052020-1502',\n",
       " '052020-1503',\n",
       " '052020-1504',\n",
       " '052020-1505',\n",
       " '052020-1506',\n",
       " '052020-1507',\n",
       " '052020-1508',\n",
       " '052020-1509',\n",
       " '052020-1510']"
      ]
     },
     "execution_count": 37,
     "metadata": {},
     "output_type": "execute_result"
    }
   ],
   "source": [
    "# Initializing our [empty] list\n",
    "new_items_2018_list = []\n",
    "\n",
    "# For the items in 2018:\n",
    "for item in list(year_2018['Item']): \n",
    "    # If the item does not also appear in 2017:\n",
    "    if item not in list(year_2017['Item']): \n",
    "        # Add it to our list of items that are new in 2018\n",
    "        new_items_2018_list.append(item)       \n",
    "\n",
    "# We want to view the list so we can ensure it looks like a feasible answer\n",
    "new_items_2018_list\n",
    "\n",
    "# Can also look at n/a"
   ]
  },
  {
   "cell_type": "code",
   "execution_count": 38,
   "metadata": {
    "scrolled": false
   },
   "outputs": [
    {
     "data": {
      "text/html": [
       "<div>\n",
       "<style scoped>\n",
       "    .dataframe tbody tr th:only-of-type {\n",
       "        vertical-align: middle;\n",
       "    }\n",
       "\n",
       "    .dataframe tbody tr th {\n",
       "        vertical-align: top;\n",
       "    }\n",
       "\n",
       "    .dataframe thead th {\n",
       "        text-align: right;\n",
       "    }\n",
       "</style>\n",
       "<table border=\"1\" class=\"dataframe\">\n",
       "  <thead>\n",
       "    <tr style=\"text-align: right;\">\n",
       "      <th></th>\n",
       "      <th>Item</th>\n",
       "      <th>Year</th>\n",
       "      <th>Item Cost</th>\n",
       "      <th>Item Price</th>\n",
       "      <th>Unit Sales</th>\n",
       "      <th>Dollar Sales</th>\n",
       "      <th>Profit Margin</th>\n",
       "    </tr>\n",
       "  </thead>\n",
       "  <tbody>\n",
       "    <tr>\n",
       "      <th>491</th>\n",
       "      <td>052020-1501</td>\n",
       "      <td>2018</td>\n",
       "      <td>116</td>\n",
       "      <td>148</td>\n",
       "      <td>5500</td>\n",
       "      <td>814000</td>\n",
       "      <td>176000</td>\n",
       "    </tr>\n",
       "    <tr>\n",
       "      <th>492</th>\n",
       "      <td>052020-1502</td>\n",
       "      <td>2018</td>\n",
       "      <td>100</td>\n",
       "      <td>132</td>\n",
       "      <td>2000</td>\n",
       "      <td>264000</td>\n",
       "      <td>64000</td>\n",
       "    </tr>\n",
       "    <tr>\n",
       "      <th>493</th>\n",
       "      <td>052020-1503</td>\n",
       "      <td>2018</td>\n",
       "      <td>100</td>\n",
       "      <td>132</td>\n",
       "      <td>2000</td>\n",
       "      <td>264000</td>\n",
       "      <td>64000</td>\n",
       "    </tr>\n",
       "    <tr>\n",
       "      <th>494</th>\n",
       "      <td>052020-1504</td>\n",
       "      <td>2018</td>\n",
       "      <td>100</td>\n",
       "      <td>132</td>\n",
       "      <td>2215</td>\n",
       "      <td>292380</td>\n",
       "      <td>70880</td>\n",
       "    </tr>\n",
       "    <tr>\n",
       "      <th>495</th>\n",
       "      <td>052020-1505</td>\n",
       "      <td>2018</td>\n",
       "      <td>100</td>\n",
       "      <td>132</td>\n",
       "      <td>1900</td>\n",
       "      <td>250800</td>\n",
       "      <td>60800</td>\n",
       "    </tr>\n",
       "    <tr>\n",
       "      <th>496</th>\n",
       "      <td>052020-1506</td>\n",
       "      <td>2018</td>\n",
       "      <td>100</td>\n",
       "      <td>132</td>\n",
       "      <td>1900</td>\n",
       "      <td>250800</td>\n",
       "      <td>60800</td>\n",
       "    </tr>\n",
       "    <tr>\n",
       "      <th>497</th>\n",
       "      <td>052020-1507</td>\n",
       "      <td>2018</td>\n",
       "      <td>100</td>\n",
       "      <td>132</td>\n",
       "      <td>2000</td>\n",
       "      <td>264000</td>\n",
       "      <td>64000</td>\n",
       "    </tr>\n",
       "    <tr>\n",
       "      <th>498</th>\n",
       "      <td>052020-1508</td>\n",
       "      <td>2018</td>\n",
       "      <td>100</td>\n",
       "      <td>131</td>\n",
       "      <td>2000</td>\n",
       "      <td>262000</td>\n",
       "      <td>62000</td>\n",
       "    </tr>\n",
       "    <tr>\n",
       "      <th>499</th>\n",
       "      <td>052020-1509</td>\n",
       "      <td>2018</td>\n",
       "      <td>100</td>\n",
       "      <td>130</td>\n",
       "      <td>2100</td>\n",
       "      <td>273000</td>\n",
       "      <td>63000</td>\n",
       "    </tr>\n",
       "    <tr>\n",
       "      <th>500</th>\n",
       "      <td>052020-1510</td>\n",
       "      <td>2018</td>\n",
       "      <td>100</td>\n",
       "      <td>130</td>\n",
       "      <td>2000</td>\n",
       "      <td>260000</td>\n",
       "      <td>60000</td>\n",
       "    </tr>\n",
       "  </tbody>\n",
       "</table>\n",
       "</div>"
      ],
      "text/plain": [
       "            Item  Year  Item Cost  Item Price  Unit Sales  Dollar Sales  \\\n",
       "491  052020-1501  2018        116         148        5500        814000   \n",
       "492  052020-1502  2018        100         132        2000        264000   \n",
       "493  052020-1503  2018        100         132        2000        264000   \n",
       "494  052020-1504  2018        100         132        2215        292380   \n",
       "495  052020-1505  2018        100         132        1900        250800   \n",
       "496  052020-1506  2018        100         132        1900        250800   \n",
       "497  052020-1507  2018        100         132        2000        264000   \n",
       "498  052020-1508  2018        100         131        2000        262000   \n",
       "499  052020-1509  2018        100         130        2100        273000   \n",
       "500  052020-1510  2018        100         130        2000        260000   \n",
       "\n",
       "     Profit Margin  \n",
       "491         176000  \n",
       "492          64000  \n",
       "493          64000  \n",
       "494          70880  \n",
       "495          60800  \n",
       "496          60800  \n",
       "497          64000  \n",
       "498          62000  \n",
       "499          63000  \n",
       "500          60000  "
      ]
     },
     "execution_count": 38,
     "metadata": {},
     "output_type": "execute_result"
    }
   ],
   "source": [
    "# Now that we have the item numbers in a list, we want to go back and pull all data associated with these items from\n",
    "# the full dataframe wherever the item name is in our list of new items.\n",
    "new_items_2018_info = df.loc[df['Item'].isin(new_items_2018_list)]\n",
    "new_items_2018_info"
   ]
  },
  {
   "cell_type": "code",
   "execution_count": 39,
   "metadata": {
    "scrolled": false
   },
   "outputs": [
    {
     "data": {
      "text/plain": [
       "Year               2017.000000\n",
       "Item Cost            99.972056\n",
       "Item Price          166.728543\n",
       "Unit Sales         1047.904192\n",
       "Dollar Sales     174763.453094\n",
       "Profit Margin     69977.045908\n",
       "dtype: float64"
      ]
     },
     "execution_count": 39,
     "metadata": {},
     "output_type": "execute_result"
    }
   ],
   "source": [
    "year_2017.mean()"
   ]
  },
  {
   "cell_type": "code",
   "execution_count": 40,
   "metadata": {},
   "outputs": [
    {
     "data": {
      "text/html": [
       "<div>\n",
       "<style scoped>\n",
       "    .dataframe tbody tr th:only-of-type {\n",
       "        vertical-align: middle;\n",
       "    }\n",
       "\n",
       "    .dataframe tbody tr th {\n",
       "        vertical-align: top;\n",
       "    }\n",
       "\n",
       "    .dataframe thead th {\n",
       "        text-align: right;\n",
       "    }\n",
       "</style>\n",
       "<table border=\"1\" class=\"dataframe\">\n",
       "  <thead>\n",
       "    <tr style=\"text-align: right;\">\n",
       "      <th></th>\n",
       "      <th>Dollar Sales</th>\n",
       "      <th>Item</th>\n",
       "      <th>Item Cost</th>\n",
       "      <th>Item Price</th>\n",
       "      <th>Profit Margin</th>\n",
       "      <th>Unit Sales</th>\n",
       "      <th>Year</th>\n",
       "    </tr>\n",
       "  </thead>\n",
       "  <tbody>\n",
       "    <tr>\n",
       "      <th>491</th>\n",
       "      <td>True</td>\n",
       "      <td>False</td>\n",
       "      <td>True</td>\n",
       "      <td>False</td>\n",
       "      <td>True</td>\n",
       "      <td>True</td>\n",
       "      <td>True</td>\n",
       "    </tr>\n",
       "    <tr>\n",
       "      <th>492</th>\n",
       "      <td>True</td>\n",
       "      <td>False</td>\n",
       "      <td>True</td>\n",
       "      <td>False</td>\n",
       "      <td>False</td>\n",
       "      <td>True</td>\n",
       "      <td>True</td>\n",
       "    </tr>\n",
       "    <tr>\n",
       "      <th>493</th>\n",
       "      <td>True</td>\n",
       "      <td>False</td>\n",
       "      <td>True</td>\n",
       "      <td>False</td>\n",
       "      <td>False</td>\n",
       "      <td>True</td>\n",
       "      <td>True</td>\n",
       "    </tr>\n",
       "    <tr>\n",
       "      <th>494</th>\n",
       "      <td>True</td>\n",
       "      <td>False</td>\n",
       "      <td>True</td>\n",
       "      <td>False</td>\n",
       "      <td>True</td>\n",
       "      <td>True</td>\n",
       "      <td>True</td>\n",
       "    </tr>\n",
       "    <tr>\n",
       "      <th>495</th>\n",
       "      <td>True</td>\n",
       "      <td>False</td>\n",
       "      <td>True</td>\n",
       "      <td>False</td>\n",
       "      <td>False</td>\n",
       "      <td>True</td>\n",
       "      <td>True</td>\n",
       "    </tr>\n",
       "    <tr>\n",
       "      <th>496</th>\n",
       "      <td>True</td>\n",
       "      <td>False</td>\n",
       "      <td>True</td>\n",
       "      <td>False</td>\n",
       "      <td>False</td>\n",
       "      <td>True</td>\n",
       "      <td>True</td>\n",
       "    </tr>\n",
       "    <tr>\n",
       "      <th>497</th>\n",
       "      <td>True</td>\n",
       "      <td>False</td>\n",
       "      <td>True</td>\n",
       "      <td>False</td>\n",
       "      <td>False</td>\n",
       "      <td>True</td>\n",
       "      <td>True</td>\n",
       "    </tr>\n",
       "    <tr>\n",
       "      <th>498</th>\n",
       "      <td>True</td>\n",
       "      <td>False</td>\n",
       "      <td>True</td>\n",
       "      <td>False</td>\n",
       "      <td>False</td>\n",
       "      <td>True</td>\n",
       "      <td>True</td>\n",
       "    </tr>\n",
       "    <tr>\n",
       "      <th>499</th>\n",
       "      <td>True</td>\n",
       "      <td>False</td>\n",
       "      <td>True</td>\n",
       "      <td>False</td>\n",
       "      <td>False</td>\n",
       "      <td>True</td>\n",
       "      <td>True</td>\n",
       "    </tr>\n",
       "    <tr>\n",
       "      <th>500</th>\n",
       "      <td>True</td>\n",
       "      <td>False</td>\n",
       "      <td>True</td>\n",
       "      <td>False</td>\n",
       "      <td>False</td>\n",
       "      <td>True</td>\n",
       "      <td>True</td>\n",
       "    </tr>\n",
       "  </tbody>\n",
       "</table>\n",
       "</div>"
      ],
      "text/plain": [
       "     Dollar Sales   Item  Item Cost  Item Price  Profit Margin  Unit Sales  \\\n",
       "491          True  False       True       False           True        True   \n",
       "492          True  False       True       False          False        True   \n",
       "493          True  False       True       False          False        True   \n",
       "494          True  False       True       False           True        True   \n",
       "495          True  False       True       False          False        True   \n",
       "496          True  False       True       False          False        True   \n",
       "497          True  False       True       False          False        True   \n",
       "498          True  False       True       False          False        True   \n",
       "499          True  False       True       False          False        True   \n",
       "500          True  False       True       False          False        True   \n",
       "\n",
       "     Year  \n",
       "491  True  \n",
       "492  True  \n",
       "493  True  \n",
       "494  True  \n",
       "495  True  \n",
       "496  True  \n",
       "497  True  \n",
       "498  True  \n",
       "499  True  \n",
       "500  True  "
      ]
     },
     "execution_count": 40,
     "metadata": {},
     "output_type": "execute_result"
    }
   ],
   "source": [
    "new_items_2018_info > year_2017.mean()"
   ]
  },
  {
   "cell_type": "code",
   "execution_count": 41,
   "metadata": {},
   "outputs": [
    {
     "name": "stdout",
     "output_type": "stream",
     "text": [
      "There were 23,615 units of new items sold in 2018, accounting for 4.33% of 2018's total sold volume despite making up only 2.00% of the catalog that year.\n"
     ]
    }
   ],
   "source": [
    "# Summing up the number of units sold for new items in 2018\n",
    "new_units_2018 = new_items_2018_info['Unit Sales'].sum()\n",
    "\n",
    "# Summing up the \"Unit Sales\" for ALL items in 2018\n",
    "year_2018_units = year_2018['Unit Sales'].sum()\n",
    "\n",
    "# Calculating the percentage (new / all * 100)\n",
    "new_percentage_of_units_2018 = new_items_2018_info['Unit Sales'].sum() / year_2018['Unit Sales'].sum() * 100\n",
    "\n",
    "# Determining what percentage of the items sold in 2018 were items first introduced that same year\n",
    "catalog_percentage = len(new_items_2018_info) / len(year_2018) * 100\n",
    "\n",
    "# Printing the results\n",
    "print('There were {0:,.0f} units of new items sold in 2018, accounting for {1:.2f}% of 2018\\'s total sold volume \\\n",
    "despite making up only {2:.2f}% of the catalog that year.'.format(new_units_2018, new_percentage_of_units_2018, \n",
    "                                                                  catalog_percentage))"
   ]
  },
  {
   "cell_type": "code",
   "execution_count": 42,
   "metadata": {},
   "outputs": [
    {
     "name": "stdout",
     "output_type": "stream",
     "text": [
      "The new items added in 2018 accounted for $3,194,980.00 in sales, which translates to 3.51% of 2018's sales.\n"
     ]
    }
   ],
   "source": [
    "# Summing up the \"Dollar Sales\" for the new items in 2018\n",
    "new_items_2018_sales = new_items_2018_info['Dollar Sales'].sum()\n",
    "\n",
    "# Summing up the \"Dollar Sales\" for ALL items in 2018\n",
    "year_2018_sales = year_2018['Dollar Sales'].sum()\n",
    "\n",
    "# Calculating the percentage (new / all * 100)\n",
    "new_percentage_of_sales_2018 = new_items_2018_info['Dollar Sales'].sum() / year_2018['Dollar Sales'].sum() * 100\n",
    "\n",
    "# Printing the results\n",
    "print('The new items added in 2018 accounted for ${0:,.2f} in sales, which translates to {1:.2f}% of 2018\\'s sales.'\\\n",
    "     .format(new_items_2018_sales, new_percentage_of_sales_2018))"
   ]
  },
  {
   "cell_type": "code",
   "execution_count": 43,
   "metadata": {
    "scrolled": true
   },
   "outputs": [
    {
     "name": "stdout",
     "output_type": "stream",
     "text": [
      "The new items added in 2018 accounted for $745,480.00 in profit, which translates to 2.08% of 2018's profit.\n"
     ]
    }
   ],
   "source": [
    "# Summing up the \"Profit Margin\" for the new items in 2018\n",
    "new_items_2018_profit = new_items_2018_info['Profit Margin'].sum()\n",
    "\n",
    "# Summing up the \"Profit Margin\" for ALL items in 2018\n",
    "year_2018_profit = year_2018['Profit Margin'].sum()\n",
    "\n",
    "# Calculating the percentage (new / all * 100)\n",
    "new_percentage_of_profit_2018 = new_items_2018_info['Profit Margin'].sum() / year_2018['Profit Margin'].sum() * 100\n",
    "\n",
    "# Printing the results\n",
    "print('The new items added in 2018 accounted for ${0:,.2f} in profit, which translates to {1:.2f}% of 2018\\'s profit.'\\\n",
    "     .format(new_items_2018_profit, new_percentage_of_profit_2018))"
   ]
  },
  {
   "cell_type": "markdown",
   "metadata": {},
   "source": [
    "---"
   ]
  },
  {
   "cell_type": "markdown",
   "metadata": {},
   "source": [
    "## Useful information for further analysis"
   ]
  },
  {
   "cell_type": "markdown",
   "metadata": {},
   "source": [
    "* What each item is (i.e. Which is more popular--M12 or M18? Do saws sell better or do drills sell better?)\n",
    "* Competitors' pricing\n",
    "* Region/company where items were sold\n",
    "* Data broken down by month or day to uncover trends or seasonality\n",
    "* Any concurrent pricing promotions that would explain trends mentioned in the bullet point above\n",
    "* How much inventory is left over at the end of the year (tax purposes)"
   ]
  },
  {
   "cell_type": "markdown",
   "metadata": {},
   "source": [
    "Regarding the item that is currently being sold at a loss, is it possible to manufacture this item at a lower cost? Or is it possible to raise the price? How does the pricing compare with competitors'? At what profit margin will it be \"worth it\" to manufacture and sell this item? Is this new sale price so high that many customers will opt out of buying it?"
   ]
  },
  {
   "cell_type": "markdown",
   "metadata": {},
   "source": [
    "---"
   ]
  },
  {
   "cell_type": "markdown",
   "metadata": {},
   "source": [
    "## Adding \"Profit Percentage\" column per post-interview feedback"
   ]
  },
  {
   "cell_type": "code",
   "execution_count": 44,
   "metadata": {},
   "outputs": [
    {
     "data": {
      "text/html": [
       "<div>\n",
       "<style scoped>\n",
       "    .dataframe tbody tr th:only-of-type {\n",
       "        vertical-align: middle;\n",
       "    }\n",
       "\n",
       "    .dataframe tbody tr th {\n",
       "        vertical-align: top;\n",
       "    }\n",
       "\n",
       "    .dataframe thead th {\n",
       "        text-align: right;\n",
       "    }\n",
       "</style>\n",
       "<table border=\"1\" class=\"dataframe\">\n",
       "  <thead>\n",
       "    <tr style=\"text-align: right;\">\n",
       "      <th></th>\n",
       "      <th>Item</th>\n",
       "      <th>Year</th>\n",
       "      <th>Item Cost</th>\n",
       "      <th>Item Price</th>\n",
       "      <th>Unit Sales</th>\n",
       "      <th>Dollar Sales</th>\n",
       "      <th>Profit Margin</th>\n",
       "      <th>Profit Percentage</th>\n",
       "    </tr>\n",
       "  </thead>\n",
       "  <tbody>\n",
       "    <tr>\n",
       "      <th>0</th>\n",
       "      <td>052020-1010</td>\n",
       "      <td>2018</td>\n",
       "      <td>100</td>\n",
       "      <td>148</td>\n",
       "      <td>1175</td>\n",
       "      <td>173900</td>\n",
       "      <td>56400</td>\n",
       "      <td>48.000000</td>\n",
       "    </tr>\n",
       "    <tr>\n",
       "      <th>1</th>\n",
       "      <td>052020-1011</td>\n",
       "      <td>2018</td>\n",
       "      <td>94</td>\n",
       "      <td>156</td>\n",
       "      <td>1205</td>\n",
       "      <td>187980</td>\n",
       "      <td>74710</td>\n",
       "      <td>65.957447</td>\n",
       "    </tr>\n",
       "    <tr>\n",
       "      <th>2</th>\n",
       "      <td>052020-1012</td>\n",
       "      <td>2018</td>\n",
       "      <td>86</td>\n",
       "      <td>176</td>\n",
       "      <td>1125</td>\n",
       "      <td>198000</td>\n",
       "      <td>101250</td>\n",
       "      <td>104.651163</td>\n",
       "    </tr>\n",
       "    <tr>\n",
       "      <th>3</th>\n",
       "      <td>052020-1013</td>\n",
       "      <td>2018</td>\n",
       "      <td>124</td>\n",
       "      <td>178</td>\n",
       "      <td>980</td>\n",
       "      <td>174440</td>\n",
       "      <td>52920</td>\n",
       "      <td>43.548387</td>\n",
       "    </tr>\n",
       "    <tr>\n",
       "      <th>4</th>\n",
       "      <td>052020-1014</td>\n",
       "      <td>2018</td>\n",
       "      <td>71</td>\n",
       "      <td>141</td>\n",
       "      <td>1050</td>\n",
       "      <td>148050</td>\n",
       "      <td>73500</td>\n",
       "      <td>98.591549</td>\n",
       "    </tr>\n",
       "    <tr>\n",
       "      <th>...</th>\n",
       "      <td>...</td>\n",
       "      <td>...</td>\n",
       "      <td>...</td>\n",
       "      <td>...</td>\n",
       "      <td>...</td>\n",
       "      <td>...</td>\n",
       "      <td>...</td>\n",
       "      <td>...</td>\n",
       "    </tr>\n",
       "    <tr>\n",
       "      <th>997</th>\n",
       "      <td>052020-1496</td>\n",
       "      <td>2017</td>\n",
       "      <td>120</td>\n",
       "      <td>186</td>\n",
       "      <td>960</td>\n",
       "      <td>178560</td>\n",
       "      <td>63360</td>\n",
       "      <td>55.000000</td>\n",
       "    </tr>\n",
       "    <tr>\n",
       "      <th>998</th>\n",
       "      <td>052020-1497</td>\n",
       "      <td>2017</td>\n",
       "      <td>103</td>\n",
       "      <td>154</td>\n",
       "      <td>1000</td>\n",
       "      <td>154000</td>\n",
       "      <td>51000</td>\n",
       "      <td>49.514563</td>\n",
       "    </tr>\n",
       "    <tr>\n",
       "      <th>999</th>\n",
       "      <td>052020-1498</td>\n",
       "      <td>2017</td>\n",
       "      <td>99</td>\n",
       "      <td>177</td>\n",
       "      <td>900</td>\n",
       "      <td>159300</td>\n",
       "      <td>70200</td>\n",
       "      <td>78.787879</td>\n",
       "    </tr>\n",
       "    <tr>\n",
       "      <th>1000</th>\n",
       "      <td>052020-1499</td>\n",
       "      <td>2017</td>\n",
       "      <td>105</td>\n",
       "      <td>185</td>\n",
       "      <td>900</td>\n",
       "      <td>166500</td>\n",
       "      <td>72000</td>\n",
       "      <td>76.190476</td>\n",
       "    </tr>\n",
       "    <tr>\n",
       "      <th>1001</th>\n",
       "      <td>052020-1500</td>\n",
       "      <td>2017</td>\n",
       "      <td>86</td>\n",
       "      <td>183</td>\n",
       "      <td>940</td>\n",
       "      <td>172020</td>\n",
       "      <td>91180</td>\n",
       "      <td>112.790698</td>\n",
       "    </tr>\n",
       "  </tbody>\n",
       "</table>\n",
       "<p>1002 rows × 8 columns</p>\n",
       "</div>"
      ],
      "text/plain": [
       "             Item  Year  Item Cost  Item Price  Unit Sales  Dollar Sales  \\\n",
       "0     052020-1010  2018        100         148        1175        173900   \n",
       "1     052020-1011  2018         94         156        1205        187980   \n",
       "2     052020-1012  2018         86         176        1125        198000   \n",
       "3     052020-1013  2018        124         178         980        174440   \n",
       "4     052020-1014  2018         71         141        1050        148050   \n",
       "...           ...   ...        ...         ...         ...           ...   \n",
       "997   052020-1496  2017        120         186         960        178560   \n",
       "998   052020-1497  2017        103         154        1000        154000   \n",
       "999   052020-1498  2017         99         177         900        159300   \n",
       "1000  052020-1499  2017        105         185         900        166500   \n",
       "1001  052020-1500  2017         86         183         940        172020   \n",
       "\n",
       "      Profit Margin  Profit Percentage  \n",
       "0             56400          48.000000  \n",
       "1             74710          65.957447  \n",
       "2            101250         104.651163  \n",
       "3             52920          43.548387  \n",
       "4             73500          98.591549  \n",
       "...             ...                ...  \n",
       "997           63360          55.000000  \n",
       "998           51000          49.514563  \n",
       "999           70200          78.787879  \n",
       "1000          72000          76.190476  \n",
       "1001          91180         112.790698  \n",
       "\n",
       "[1002 rows x 8 columns]"
      ]
     },
     "execution_count": 44,
     "metadata": {},
     "output_type": "execute_result"
    }
   ],
   "source": [
    "df['Profit Percentage'] = (df['Item Price'] - df['Item Cost']) / df['Item Cost'] * 100\n",
    "df"
   ]
  },
  {
   "cell_type": "code",
   "execution_count": 45,
   "metadata": {},
   "outputs": [
    {
     "data": {
      "text/html": [
       "<div>\n",
       "<style scoped>\n",
       "    .dataframe tbody tr th:only-of-type {\n",
       "        vertical-align: middle;\n",
       "    }\n",
       "\n",
       "    .dataframe tbody tr th {\n",
       "        vertical-align: top;\n",
       "    }\n",
       "\n",
       "    .dataframe thead th {\n",
       "        text-align: right;\n",
       "    }\n",
       "</style>\n",
       "<table border=\"1\" class=\"dataframe\">\n",
       "  <thead>\n",
       "    <tr style=\"text-align: right;\">\n",
       "      <th></th>\n",
       "      <th>Item</th>\n",
       "      <th>Year</th>\n",
       "      <th>Item Cost</th>\n",
       "      <th>Item Price</th>\n",
       "      <th>Unit Sales</th>\n",
       "      <th>Dollar Sales</th>\n",
       "      <th>Profit Margin</th>\n",
       "      <th>Profit Percentage</th>\n",
       "    </tr>\n",
       "  </thead>\n",
       "  <tbody>\n",
       "    <tr>\n",
       "      <th>879</th>\n",
       "      <td>052020-1378</td>\n",
       "      <td>2017</td>\n",
       "      <td>71</td>\n",
       "      <td>197</td>\n",
       "      <td>1040</td>\n",
       "      <td>204880</td>\n",
       "      <td>131040</td>\n",
       "      <td>177.464789</td>\n",
       "    </tr>\n",
       "    <tr>\n",
       "      <th>368</th>\n",
       "      <td>052020-1378</td>\n",
       "      <td>2018</td>\n",
       "      <td>71</td>\n",
       "      <td>197</td>\n",
       "      <td>1080</td>\n",
       "      <td>212760</td>\n",
       "      <td>136080</td>\n",
       "      <td>177.464789</td>\n",
       "    </tr>\n",
       "    <tr>\n",
       "      <th>974</th>\n",
       "      <td>052020-1473</td>\n",
       "      <td>2017</td>\n",
       "      <td>71</td>\n",
       "      <td>194</td>\n",
       "      <td>1050</td>\n",
       "      <td>203700</td>\n",
       "      <td>129150</td>\n",
       "      <td>173.239437</td>\n",
       "    </tr>\n",
       "    <tr>\n",
       "      <th>463</th>\n",
       "      <td>052020-1473</td>\n",
       "      <td>2018</td>\n",
       "      <td>71</td>\n",
       "      <td>194</td>\n",
       "      <td>1070</td>\n",
       "      <td>207580</td>\n",
       "      <td>131610</td>\n",
       "      <td>173.239437</td>\n",
       "    </tr>\n",
       "    <tr>\n",
       "      <th>761</th>\n",
       "      <td>052020-1260</td>\n",
       "      <td>2017</td>\n",
       "      <td>73</td>\n",
       "      <td>198</td>\n",
       "      <td>1030</td>\n",
       "      <td>203940</td>\n",
       "      <td>128750</td>\n",
       "      <td>171.232877</td>\n",
       "    </tr>\n",
       "    <tr>\n",
       "      <th>...</th>\n",
       "      <td>...</td>\n",
       "      <td>...</td>\n",
       "      <td>...</td>\n",
       "      <td>...</td>\n",
       "      <td>...</td>\n",
       "      <td>...</td>\n",
       "      <td>...</td>\n",
       "      <td>...</td>\n",
       "    </tr>\n",
       "    <tr>\n",
       "      <th>725</th>\n",
       "      <td>052020-1224</td>\n",
       "      <td>2017</td>\n",
       "      <td>130</td>\n",
       "      <td>139</td>\n",
       "      <td>1160</td>\n",
       "      <td>161240</td>\n",
       "      <td>10440</td>\n",
       "      <td>6.923077</td>\n",
       "    </tr>\n",
       "    <tr>\n",
       "      <th>665</th>\n",
       "      <td>052020-1164</td>\n",
       "      <td>2017</td>\n",
       "      <td>132</td>\n",
       "      <td>139</td>\n",
       "      <td>910</td>\n",
       "      <td>126490</td>\n",
       "      <td>6370</td>\n",
       "      <td>5.303030</td>\n",
       "    </tr>\n",
       "    <tr>\n",
       "      <th>154</th>\n",
       "      <td>052020-1164</td>\n",
       "      <td>2018</td>\n",
       "      <td>132</td>\n",
       "      <td>139</td>\n",
       "      <td>910</td>\n",
       "      <td>126490</td>\n",
       "      <td>6370</td>\n",
       "      <td>5.303030</td>\n",
       "    </tr>\n",
       "    <tr>\n",
       "      <th>364</th>\n",
       "      <td>052020-1374</td>\n",
       "      <td>2018</td>\n",
       "      <td>132</td>\n",
       "      <td>130</td>\n",
       "      <td>1000</td>\n",
       "      <td>130000</td>\n",
       "      <td>-2000</td>\n",
       "      <td>-1.515152</td>\n",
       "    </tr>\n",
       "    <tr>\n",
       "      <th>875</th>\n",
       "      <td>052020-1374</td>\n",
       "      <td>2017</td>\n",
       "      <td>132</td>\n",
       "      <td>130</td>\n",
       "      <td>970</td>\n",
       "      <td>126100</td>\n",
       "      <td>-1940</td>\n",
       "      <td>-1.515152</td>\n",
       "    </tr>\n",
       "  </tbody>\n",
       "</table>\n",
       "<p>1002 rows × 8 columns</p>\n",
       "</div>"
      ],
      "text/plain": [
       "            Item  Year  Item Cost  Item Price  Unit Sales  Dollar Sales  \\\n",
       "879  052020-1378  2017         71         197        1040        204880   \n",
       "368  052020-1378  2018         71         197        1080        212760   \n",
       "974  052020-1473  2017         71         194        1050        203700   \n",
       "463  052020-1473  2018         71         194        1070        207580   \n",
       "761  052020-1260  2017         73         198        1030        203940   \n",
       "..           ...   ...        ...         ...         ...           ...   \n",
       "725  052020-1224  2017        130         139        1160        161240   \n",
       "665  052020-1164  2017        132         139         910        126490   \n",
       "154  052020-1164  2018        132         139         910        126490   \n",
       "364  052020-1374  2018        132         130        1000        130000   \n",
       "875  052020-1374  2017        132         130         970        126100   \n",
       "\n",
       "     Profit Margin  Profit Percentage  \n",
       "879         131040         177.464789  \n",
       "368         136080         177.464789  \n",
       "974         129150         173.239437  \n",
       "463         131610         173.239437  \n",
       "761         128750         171.232877  \n",
       "..             ...                ...  \n",
       "725          10440           6.923077  \n",
       "665           6370           5.303030  \n",
       "154           6370           5.303030  \n",
       "364          -2000          -1.515152  \n",
       "875          -1940          -1.515152  \n",
       "\n",
       "[1002 rows x 8 columns]"
      ]
     },
     "execution_count": 45,
     "metadata": {},
     "output_type": "execute_result"
    }
   ],
   "source": [
    "df.sort_values('Profit Percentage', ascending=False)"
   ]
  }
 ],
 "metadata": {
  "kernelspec": {
   "display_name": "Python 3",
   "language": "python",
   "name": "python3"
  },
  "language_info": {
   "codemirror_mode": {
    "name": "ipython",
    "version": 3
   },
   "file_extension": ".py",
   "mimetype": "text/x-python",
   "name": "python",
   "nbconvert_exporter": "python",
   "pygments_lexer": "ipython3",
   "version": "3.8.3"
  }
 },
 "nbformat": 4,
 "nbformat_minor": 4
}
